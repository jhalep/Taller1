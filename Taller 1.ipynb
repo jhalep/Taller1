{
 "cells": [
  {
   "cell_type": "markdown",
   "metadata": {},
   "source": [
    "# TALLER 1 #"
   ]
  },
  {
   "cell_type": "code",
   "execution_count": 72,
   "metadata": {
    "collapsed": true
   },
   "outputs": [
    {
     "data": {
      "text/html": [
       "<table>\n",
       "<thead><tr><th scope=col>No.</th><th scope=col>GENERO</th><th scope=col>EDAD</th><th scope=col>ESTADO_CIVIL</th><th scope=col>HIJOS</th><th scope=col>PESO_ANTES_DIETA</th><th scope=col>PESO_DESPUES_DIETA</th><th scope=col>NIVEL_EDUCATIVO</th><th scope=col>INGRESO</th><th scope=col>GASTOS</th><th scope=col>CALIFICACION_SERVIVCIO_TRANSPORTE</th><th scope=col>TIEMPO_RECORRIDO</th><th scope=col>GASTO_DIARIO_TRANSPORTE</th><th scope=col>VIVIENDA</th><th scope=col>PERSONAS_HOGAR</th><th scope=col>PERSONAS_EDAD_TRABAJAR</th><th scope=col>NUMERO_PERSONAS_EDAD_TRABAJAR</th></tr></thead>\n",
       "<tbody>\n",
       "\t<tr><td> 1           </td><td>MUJER        </td><td>32           </td><td>CASADO       </td><td>3            </td><td>79           </td><td>67           </td><td>POSTGRADO    </td><td>3400         </td><td>2000         </td><td>MALO         </td><td>20           </td><td> 6           </td><td>SI           </td><td>5            </td><td>4            </td><td>2            </td></tr>\n",
       "\t<tr><td> 2           </td><td>MUJER        </td><td>33           </td><td>CASADO       </td><td>2            </td><td>58           </td><td>55           </td><td>POSTGRADO    </td><td>4000         </td><td>3100         </td><td>MALO         </td><td>25           </td><td>10           </td><td>NO           </td><td>5            </td><td>5            </td><td>3            </td></tr>\n",
       "\t<tr><td> 3           </td><td>MUJER        </td><td>35           </td><td>SOLTERO      </td><td>0            </td><td>70           </td><td>65           </td><td>PRIMARIA     </td><td>1100         </td><td> 800         </td><td>BUENO        </td><td>40           </td><td> 6           </td><td>SI           </td><td>3            </td><td>2            </td><td>1            </td></tr>\n",
       "\t<tr><td> 4           </td><td>HOMBRE       </td><td>39           </td><td>SOLTERO      </td><td>1            </td><td>94           </td><td>90           </td><td>POSTGRADO    </td><td>5200         </td><td>3800         </td><td>BUENO        </td><td>22           </td><td> 4           </td><td>SI           </td><td>4            </td><td>2            </td><td>2            </td></tr>\n",
       "\t<tr><td> 5           </td><td>MUJER        </td><td>40           </td><td>DIVORCIADO   </td><td>3            </td><td>71           </td><td>68           </td><td>POSTGRADO    </td><td>3000         </td><td>1100         </td><td>BUENO        </td><td>25           </td><td>15           </td><td>NO           </td><td>4            </td><td>1            </td><td>1            </td></tr>\n",
       "\t<tr><td> 6           </td><td>MUJER        </td><td>45           </td><td>DIVORCIADO   </td><td>2            </td><td>61           </td><td>60           </td><td>TECNICO      </td><td> 750         </td><td> 750         </td><td>BUENO        </td><td>18           </td><td>12           </td><td>NO           </td><td>3            </td><td>2            </td><td>2            </td></tr>\n",
       "\t<tr><td> 7           </td><td>HOMBRE       </td><td>48           </td><td>CASADO       </td><td>3            </td><td>58           </td><td>58           </td><td>UNIVERSITARIO</td><td> 680         </td><td> 650         </td><td>REGULAR      </td><td>20           </td><td> 8           </td><td>SI           </td><td>3            </td><td>2            </td><td>2            </td></tr>\n",
       "\t<tr><td> 8           </td><td>MUJER        </td><td>49           </td><td>CASADO       </td><td>4            </td><td>61           </td><td>62           </td><td>PRIMARIA     </td><td>4000         </td><td>3500         </td><td>MALO         </td><td>20           </td><td> 6           </td><td>SI           </td><td>5            </td><td>3            </td><td>3            </td></tr>\n",
       "\t<tr><td> 9           </td><td>MUJER        </td><td>58           </td><td>OTRO         </td><td>2            </td><td>55           </td><td>57           </td><td>PRIMARIA     </td><td>1800         </td><td>1800         </td><td>MALO         </td><td>40           </td><td>10           </td><td>SI           </td><td>3            </td><td>2            </td><td>1            </td></tr>\n",
       "\t<tr><td>10           </td><td>MUJER        </td><td>60           </td><td>OTRO         </td><td>1            </td><td>59           </td><td>58           </td><td>BACHILLER    </td><td>1600         </td><td>1550         </td><td>MALO         </td><td>30           </td><td>10           </td><td>SI           </td><td>2            </td><td>2            </td><td>1            </td></tr>\n",
       "\t<tr><td>11           </td><td>HOMBRE       </td><td>19           </td><td>CASADO       </td><td>0            </td><td>62           </td><td>60           </td><td>TECNICO      </td><td>1650         </td><td>1300         </td><td>EXCELENTE    </td><td>38           </td><td> 3           </td><td>NO           </td><td>5            </td><td>3            </td><td>1            </td></tr>\n",
       "\t<tr><td>12           </td><td>HOMBRE       </td><td>20           </td><td>SOLTERO      </td><td>0            </td><td>75           </td><td>77           </td><td>TECNICO      </td><td> 600         </td><td> 600         </td><td>BUENO        </td><td>10           </td><td> 3           </td><td>NO           </td><td>1            </td><td>1            </td><td>1            </td></tr>\n",
       "\t<tr><td>13           </td><td>MUJER        </td><td>19           </td><td>SOLTERO      </td><td>0            </td><td>48           </td><td>48           </td><td>TECNICO      </td><td> 800         </td><td> 750         </td><td>BUENO        </td><td>15           </td><td> 3           </td><td>NO           </td><td>5            </td><td>4            </td><td>2            </td></tr>\n",
       "\t<tr><td>14           </td><td>HOMBRE       </td><td>22           </td><td>SOLTERO      </td><td>1            </td><td>66           </td><td>64           </td><td>TECNICO      </td><td> 650         </td><td> 400         </td><td>BUENO        </td><td>15           </td><td> 5           </td><td>NO           </td><td>2            </td><td>2            </td><td>2            </td></tr>\n",
       "\t<tr><td>15           </td><td>HOMBRE       </td><td>22           </td><td>SOLTERO      </td><td>0            </td><td>70           </td><td>67           </td><td>PRIMARIA     </td><td> 500         </td><td> 500         </td><td>MUY_BUENO    </td><td>45           </td><td> 5           </td><td>SI           </td><td>2            </td><td>2            </td><td>2            </td></tr>\n",
       "\t<tr><td>16           </td><td>MUJER        </td><td>24           </td><td>CASADO       </td><td>1            </td><td>53           </td><td>50           </td><td>PRIMARIA     </td><td>1200         </td><td>1100         </td><td>MALO         </td><td>40           </td><td>10           </td><td>SI           </td><td>5            </td><td>3            </td><td>2            </td></tr>\n",
       "\t<tr><td>17           </td><td>HOMBRE       </td><td>23           </td><td>CASADO       </td><td>1            </td><td>75           </td><td>75           </td><td>PRIMARIA     </td><td> 850         </td><td> 800         </td><td>MUY_BUENO    </td><td>20           </td><td> 5           </td><td>NO           </td><td>3            </td><td>3            </td><td>2            </td></tr>\n",
       "\t<tr><td>18           </td><td>HOMBRE       </td><td>27           </td><td>OTRO         </td><td>2            </td><td>60           </td><td>62           </td><td>BACHILLER    </td><td> 750         </td><td> 400         </td><td>EXCELENTE    </td><td>25           </td><td> 7           </td><td>NO           </td><td>3            </td><td>3            </td><td>2            </td></tr>\n",
       "\t<tr><td>19           </td><td>MUJER        </td><td>28           </td><td>OTRO         </td><td>2            </td><td>59           </td><td>58           </td><td>BACHILLER    </td><td>1000         </td><td> 650         </td><td>MALO         </td><td>20           </td><td>10           </td><td>NO           </td><td>4            </td><td>4            </td><td>3            </td></tr>\n",
       "\t<tr><td>20           </td><td>HOMBRE       </td><td>29           </td><td>OTRO         </td><td>1            </td><td>76           </td><td>73           </td><td>POSTGRADO    </td><td>3500         </td><td>2000         </td><td>MALO         </td><td>35           </td><td> 4           </td><td>SI           </td><td>4            </td><td>4            </td><td>3            </td></tr>\n",
       "\t<tr><td>21           </td><td>HOMBRE       </td><td>25           </td><td>CASADO       </td><td>0            </td><td>75           </td><td>74           </td><td>TECNICO      </td><td> 900         </td><td> 800         </td><td>REGULAR      </td><td>55           </td><td> 3           </td><td>SI           </td><td>4            </td><td>3            </td><td>2            </td></tr>\n",
       "\t<tr><td>22           </td><td>HOMBRE       </td><td>30           </td><td>SOLTERO      </td><td>0            </td><td>75           </td><td>75           </td><td>POSTGRADO    </td><td>1850         </td><td>1850         </td><td>REGULAR      </td><td>40           </td><td> 5           </td><td>NO           </td><td>5            </td><td>4            </td><td>2            </td></tr>\n",
       "\t<tr><td>23           </td><td>HOMBRE       </td><td>32           </td><td>SOLTERO      </td><td>0            </td><td>78           </td><td>77           </td><td>UNIVERSITARIO</td><td> 700         </td><td> 700         </td><td>EXCELENTE    </td><td>30           </td><td> 8           </td><td>SI           </td><td>2            </td><td>2            </td><td>2            </td></tr>\n",
       "\t<tr><td>24           </td><td>HOMBRE       </td><td>32           </td><td>CASADO       </td><td>2            </td><td>76           </td><td>75           </td><td>UNIVERSITARIO</td><td> 680         </td><td> 650         </td><td>REGULAR      </td><td>35           </td><td> 5           </td><td>NO           </td><td>5            </td><td>3            </td><td>2            </td></tr>\n",
       "\t<tr><td>25           </td><td>HOMBRE       </td><td>37           </td><td>CASADO       </td><td>1            </td><td>69           </td><td>68           </td><td>PRIMARIA     </td><td> 720         </td><td> 700         </td><td>EXCELENTE    </td><td>12           </td><td>10           </td><td>NO           </td><td>2            </td><td>2            </td><td>1            </td></tr>\n",
       "\t<tr><td>26           </td><td>HOMBRE       </td><td>40           </td><td>CASADO       </td><td>4            </td><td>72           </td><td>70           </td><td>BACHILLER    </td><td>3500         </td><td>3400         </td><td>MUY_BUENO    </td><td>35           </td><td> 6           </td><td>SI           </td><td>4            </td><td>2            </td><td>1            </td></tr>\n",
       "\t<tr><td>27           </td><td>HOMBRE       </td><td>42           </td><td>CASADO       </td><td>1            </td><td>74           </td><td>71           </td><td>UNIVERSITARIO</td><td>1800         </td><td>1500         </td><td>MALO         </td><td>20           </td><td> 4           </td><td>SI           </td><td>3            </td><td>3            </td><td>3            </td></tr>\n",
       "\t<tr><td>28           </td><td>HOMBRE       </td><td>43           </td><td>CASADO       </td><td>1            </td><td>70           </td><td>68           </td><td>TECNICO      </td><td>1500         </td><td>1200         </td><td>MALO         </td><td>35           </td><td> 5           </td><td>SI           </td><td>5            </td><td>3            </td><td>3            </td></tr>\n",
       "\t<tr><td>29           </td><td>HOMBRE       </td><td>44           </td><td>CASADO       </td><td>2            </td><td>87           </td><td>85           </td><td>POSTGRADO    </td><td>3500         </td><td>3000         </td><td>MALO         </td><td>45           </td><td> 8           </td><td>SI           </td><td>2            </td><td>1            </td><td>1            </td></tr>\n",
       "\t<tr><td>30           </td><td>MUJER        </td><td>32           </td><td>CASADO       </td><td>2            </td><td>79           </td><td>67           </td><td>POSTGRADO    </td><td>2400         </td><td>2000         </td><td>MALO         </td><td>25           </td><td> 6           </td><td>SI           </td><td>3            </td><td>1            </td><td>1            </td></tr>\n",
       "\t<tr><td>...</td><td>...</td><td>...</td><td>...</td><td>...</td><td>...</td><td>...</td><td>...</td><td>...</td><td>...</td><td>...</td><td>...</td><td>...</td><td>...</td><td>...</td><td>...</td><td>...</td></tr>\n",
       "\t<tr><td> 71          </td><td>HOMBRE       </td><td>44           </td><td>CASADO       </td><td>2            </td><td>87           </td><td>85           </td><td>POSTGRADO    </td><td>3500         </td><td>3000         </td><td>MALO         </td><td>45           </td><td> 8           </td><td>SI           </td><td>2            </td><td>1            </td><td>1            </td></tr>\n",
       "\t<tr><td> 72          </td><td>MUJER        </td><td>32           </td><td>CASADO       </td><td>2            </td><td>79           </td><td>67           </td><td>POSTGRADO    </td><td>2400         </td><td>2000         </td><td>MALO         </td><td>25           </td><td> 6           </td><td>SI           </td><td>3            </td><td>1            </td><td>1            </td></tr>\n",
       "\t<tr><td> 73          </td><td>MUJER        </td><td>33           </td><td>CASADO       </td><td>1            </td><td>58           </td><td>55           </td><td>UNIVERSITARIO</td><td>3200         </td><td>3100         </td><td>MALO         </td><td>38           </td><td> 4           </td><td>NO           </td><td>5            </td><td>2            </td><td>2            </td></tr>\n",
       "\t<tr><td> 74          </td><td>MUJER        </td><td>35           </td><td>SOLTERO      </td><td>0            </td><td>70           </td><td>65           </td><td>UNIVERSITARIO</td><td> 800         </td><td> 800         </td><td>BUENO        </td><td>46           </td><td> 5           </td><td>SI           </td><td>3            </td><td>3            </td><td>2            </td></tr>\n",
       "\t<tr><td> 75          </td><td>HOMBRE       </td><td>39           </td><td>SOLTERO      </td><td>1            </td><td>94           </td><td>90           </td><td>PRIMARIA     </td><td>1200         </td><td>1000         </td><td>BUENO        </td><td>30           </td><td> 7           </td><td>SI           </td><td>3            </td><td>3            </td><td>2            </td></tr>\n",
       "\t<tr><td> 76          </td><td>MUJER        </td><td>40           </td><td>DIVORCIADO   </td><td>3            </td><td>71           </td><td>68           </td><td>TECNICO      </td><td>1300         </td><td>1100         </td><td>BUENO        </td><td>30           </td><td> 3           </td><td>NO           </td><td>5            </td><td>2            </td><td>1            </td></tr>\n",
       "\t<tr><td> 77          </td><td>MUJER        </td><td>45           </td><td>DIVORCIADO   </td><td>2            </td><td>61           </td><td>60           </td><td>PRIMARIA     </td><td> 750         </td><td> 750         </td><td>BUENO        </td><td>25           </td><td> 5           </td><td>SI           </td><td>3            </td><td>2            </td><td>2            </td></tr>\n",
       "\t<tr><td> 78          </td><td>HOMBRE       </td><td>48           </td><td>CASADO       </td><td>3            </td><td>58           </td><td>58           </td><td>PRIMARIA     </td><td> 680         </td><td> 650         </td><td>EXCELENTE    </td><td>45           </td><td> 8           </td><td>SI           </td><td>3            </td><td>2            </td><td>2            </td></tr>\n",
       "\t<tr><td> 79          </td><td>MUJER        </td><td>49           </td><td>CASADO       </td><td>5            </td><td>61           </td><td>62           </td><td>UNIVERSITARIO</td><td>4000         </td><td>3500         </td><td>MALO         </td><td>40           </td><td> 4           </td><td>SI           </td><td>4            </td><td>1            </td><td>1            </td></tr>\n",
       "\t<tr><td> 80          </td><td>MUJER        </td><td>58           </td><td>OTRO         </td><td>5            </td><td>55           </td><td>57           </td><td>PRIMARIA     </td><td>1000         </td><td> 950         </td><td>MALO         </td><td>40           </td><td> 4           </td><td>NO           </td><td>3            </td><td>1            </td><td>1            </td></tr>\n",
       "\t<tr><td> 81          </td><td>MUJER        </td><td>60           </td><td>OTRO         </td><td>5            </td><td>59           </td><td>58           </td><td>BACHILLER    </td><td> 600         </td><td> 550         </td><td>EXCELENTE    </td><td>30           </td><td> 7           </td><td>NO           </td><td>3            </td><td>1            </td><td>1            </td></tr>\n",
       "\t<tr><td> 82          </td><td>MUJER        </td><td>32           </td><td>CASADO       </td><td>2            </td><td>79           </td><td>67           </td><td>TECNICO      </td><td>2400         </td><td>2000         </td><td>MALO         </td><td>50           </td><td> 5           </td><td>SI           </td><td>3            </td><td>1            </td><td>1            </td></tr>\n",
       "\t<tr><td> 83          </td><td>MUJER        </td><td>33           </td><td>CASADO       </td><td>1            </td><td>58           </td><td>55           </td><td>UNIVERSITARIO</td><td>3200         </td><td>3100         </td><td>MALO         </td><td>45           </td><td> 6           </td><td>NO           </td><td>5            </td><td>3            </td><td>3            </td></tr>\n",
       "\t<tr><td> 84          </td><td>MUJER        </td><td>35           </td><td>SOLTERO      </td><td>0            </td><td>70           </td><td>65           </td><td>PRIMARIA     </td><td> 800         </td><td> 800         </td><td>BUENO        </td><td>50           </td><td> 5           </td><td>NO           </td><td>2            </td><td>2            </td><td>1            </td></tr>\n",
       "\t<tr><td> 85          </td><td>MUJER        </td><td>50           </td><td>CASADO       </td><td>3            </td><td>40           </td><td>38           </td><td>PRIMARIA     </td><td> 600         </td><td> 600         </td><td>BUENO        </td><td>10           </td><td> 5           </td><td>NO           </td><td>5            </td><td>4            </td><td>3            </td></tr>\n",
       "\t<tr><td> 86          </td><td>HOMBRE       </td><td>39           </td><td>SOLTERO      </td><td>1            </td><td>94           </td><td>90           </td><td>POSTGRADO    </td><td>4200         </td><td>3800         </td><td>BUENO        </td><td>22           </td><td> 4           </td><td>SI           </td><td>4            </td><td>2            </td><td>2            </td></tr>\n",
       "\t<tr><td> 87          </td><td>MUJER        </td><td>40           </td><td>DIVORCIADO   </td><td>3            </td><td>71           </td><td>68           </td><td>UNIVERSITARIO</td><td>2300         </td><td>1100         </td><td>BUENO        </td><td>25           </td><td>15           </td><td>NO           </td><td>4            </td><td>1            </td><td>1            </td></tr>\n",
       "\t<tr><td> 88          </td><td>MUJER        </td><td>45           </td><td>DIVORCIADO   </td><td>2            </td><td>61           </td><td>60           </td><td>BACHILLER    </td><td> 750         </td><td> 750         </td><td>BUENO        </td><td>18           </td><td>12           </td><td>NO           </td><td>3            </td><td>2            </td><td>2            </td></tr>\n",
       "\t<tr><td> 89          </td><td>HOMBRE       </td><td>48           </td><td>CASADO       </td><td>3            </td><td>58           </td><td>58           </td><td>PRIMARIA     </td><td> 680         </td><td> 650         </td><td>REGULAR      </td><td>20           </td><td> 8           </td><td>SI           </td><td>3            </td><td>2            </td><td>2            </td></tr>\n",
       "\t<tr><td> 90          </td><td>MUJER        </td><td>49           </td><td>CASADO       </td><td>4            </td><td>61           </td><td>62           </td><td>TECNICO      </td><td>4000         </td><td>3500         </td><td>MALO         </td><td>20           </td><td> 6           </td><td>SI           </td><td>5            </td><td>3            </td><td>3            </td></tr>\n",
       "\t<tr><td> 91          </td><td>MUJER        </td><td>58           </td><td>OTRO         </td><td>2            </td><td>55           </td><td>57           </td><td>UNIVERSITARIO</td><td>2800         </td><td>2800         </td><td>MALO         </td><td>40           </td><td>10           </td><td>SI           </td><td>3            </td><td>2            </td><td>1            </td></tr>\n",
       "\t<tr><td> 92          </td><td>MUJER        </td><td>60           </td><td>OTRO         </td><td>1            </td><td>59           </td><td>58           </td><td>TECNICO      </td><td>1600         </td><td>1550         </td><td>MALO         </td><td>30           </td><td>10           </td><td>SI           </td><td>2            </td><td>2            </td><td>1            </td></tr>\n",
       "\t<tr><td> 93          </td><td>HOMBRE       </td><td>39           </td><td>SOLTERO      </td><td>1            </td><td>94           </td><td>90           </td><td>POSTGRADO    </td><td>4200         </td><td>3800         </td><td>BUENO        </td><td>22           </td><td> 4           </td><td>SI           </td><td>4            </td><td>2            </td><td>2            </td></tr>\n",
       "\t<tr><td> 94          </td><td>MUJER        </td><td>40           </td><td>DIVORCIADO   </td><td>3            </td><td>71           </td><td>68           </td><td>UNIVERSITARIO</td><td>2300         </td><td>1100         </td><td>BUENO        </td><td>25           </td><td>15           </td><td>NO           </td><td>4            </td><td>1            </td><td>1            </td></tr>\n",
       "\t<tr><td> 95          </td><td>MUJER        </td><td>45           </td><td>DIVORCIADO   </td><td>2            </td><td>61           </td><td>60           </td><td>BACHILLER    </td><td> 750         </td><td> 750         </td><td>BUENO        </td><td>18           </td><td>12           </td><td>NO           </td><td>3            </td><td>2            </td><td>2            </td></tr>\n",
       "\t<tr><td> 96          </td><td>HOMBRE       </td><td>48           </td><td>CASADO       </td><td>3            </td><td>58           </td><td>58           </td><td>BACHILLER    </td><td> 680         </td><td> 650         </td><td>REGULAR      </td><td>20           </td><td> 8           </td><td>SI           </td><td>3            </td><td>2            </td><td>2            </td></tr>\n",
       "\t<tr><td> 97          </td><td>MUJER        </td><td>49           </td><td>CASADO       </td><td>4            </td><td>61           </td><td>62           </td><td>UNIVERSITARIO</td><td>4000         </td><td>3500         </td><td>MALO         </td><td>20           </td><td> 6           </td><td>SI           </td><td>5            </td><td>3            </td><td>3            </td></tr>\n",
       "\t<tr><td> 98          </td><td>MUJER        </td><td>58           </td><td>OTRO         </td><td>2            </td><td>55           </td><td>57           </td><td>UNIVERSITARIO</td><td>2800         </td><td>2800         </td><td>MALO         </td><td>40           </td><td>10           </td><td>SI           </td><td>3            </td><td>2            </td><td>1            </td></tr>\n",
       "\t<tr><td> 99          </td><td>MUJER        </td><td>60           </td><td>OTRO         </td><td>1            </td><td>59           </td><td>58           </td><td>TECNICO      </td><td>1600         </td><td>1550         </td><td>MALO         </td><td>30           </td><td>10           </td><td>SI           </td><td>2            </td><td>2            </td><td>1            </td></tr>\n",
       "\t<tr><td>100          </td><td>HOMBRE       </td><td>19           </td><td>CASADO       </td><td>0            </td><td>62           </td><td>60           </td><td>TECNICO      </td><td>1650         </td><td>1300         </td><td>EXCELENTE    </td><td>38           </td><td> 3           </td><td>NO           </td><td>5            </td><td>3            </td><td>1            </td></tr>\n",
       "</tbody>\n",
       "</table>\n"
      ],
      "text/latex": [
       "\\begin{tabular}{r|lllllllllllllllll}\n",
       " No. & GENERO & EDAD & ESTADO\\_CIVIL & HIJOS & PESO\\_ANTES\\_DIETA & PESO\\_DESPUES\\_DIETA & NIVEL\\_EDUCATIVO & INGRESO & GASTOS & CALIFICACION\\_SERVIVCIO\\_TRANSPORTE & TIEMPO\\_RECORRIDO & GASTO\\_DIARIO\\_TRANSPORTE & VIVIENDA & PERSONAS\\_HOGAR & PERSONAS\\_EDAD\\_TRABAJAR & NUMERO\\_PERSONAS\\_EDAD\\_TRABAJAR\\\\\n",
       "\\hline\n",
       "\t  1            & MUJER         & 32            & CASADO        & 3             & 79            & 67            & POSTGRADO     & 3400          & 2000          & MALO          & 20            &  6            & SI            & 5             & 4             & 2            \\\\\n",
       "\t  2            & MUJER         & 33            & CASADO        & 2             & 58            & 55            & POSTGRADO     & 4000          & 3100          & MALO          & 25            & 10            & NO            & 5             & 5             & 3            \\\\\n",
       "\t  3            & MUJER         & 35            & SOLTERO       & 0             & 70            & 65            & PRIMARIA      & 1100          &  800          & BUENO         & 40            &  6            & SI            & 3             & 2             & 1            \\\\\n",
       "\t  4            & HOMBRE        & 39            & SOLTERO       & 1             & 94            & 90            & POSTGRADO     & 5200          & 3800          & BUENO         & 22            &  4            & SI            & 4             & 2             & 2            \\\\\n",
       "\t  5            & MUJER         & 40            & DIVORCIADO    & 3             & 71            & 68            & POSTGRADO     & 3000          & 1100          & BUENO         & 25            & 15            & NO            & 4             & 1             & 1            \\\\\n",
       "\t  6            & MUJER         & 45            & DIVORCIADO    & 2             & 61            & 60            & TECNICO       &  750          &  750          & BUENO         & 18            & 12            & NO            & 3             & 2             & 2            \\\\\n",
       "\t  7            & HOMBRE        & 48            & CASADO        & 3             & 58            & 58            & UNIVERSITARIO &  680          &  650          & REGULAR       & 20            &  8            & SI            & 3             & 2             & 2            \\\\\n",
       "\t  8            & MUJER         & 49            & CASADO        & 4             & 61            & 62            & PRIMARIA      & 4000          & 3500          & MALO          & 20            &  6            & SI            & 5             & 3             & 3            \\\\\n",
       "\t  9            & MUJER         & 58            & OTRO          & 2             & 55            & 57            & PRIMARIA      & 1800          & 1800          & MALO          & 40            & 10            & SI            & 3             & 2             & 1            \\\\\n",
       "\t 10            & MUJER         & 60            & OTRO          & 1             & 59            & 58            & BACHILLER     & 1600          & 1550          & MALO          & 30            & 10            & SI            & 2             & 2             & 1            \\\\\n",
       "\t 11            & HOMBRE        & 19            & CASADO        & 0             & 62            & 60            & TECNICO       & 1650          & 1300          & EXCELENTE     & 38            &  3            & NO            & 5             & 3             & 1            \\\\\n",
       "\t 12            & HOMBRE        & 20            & SOLTERO       & 0             & 75            & 77            & TECNICO       &  600          &  600          & BUENO         & 10            &  3            & NO            & 1             & 1             & 1            \\\\\n",
       "\t 13            & MUJER         & 19            & SOLTERO       & 0             & 48            & 48            & TECNICO       &  800          &  750          & BUENO         & 15            &  3            & NO            & 5             & 4             & 2            \\\\\n",
       "\t 14            & HOMBRE        & 22            & SOLTERO       & 1             & 66            & 64            & TECNICO       &  650          &  400          & BUENO         & 15            &  5            & NO            & 2             & 2             & 2            \\\\\n",
       "\t 15            & HOMBRE        & 22            & SOLTERO       & 0             & 70            & 67            & PRIMARIA      &  500          &  500          & MUY\\_BUENO   & 45            &  5            & SI            & 2             & 2             & 2            \\\\\n",
       "\t 16            & MUJER         & 24            & CASADO        & 1             & 53            & 50            & PRIMARIA      & 1200          & 1100          & MALO          & 40            & 10            & SI            & 5             & 3             & 2            \\\\\n",
       "\t 17            & HOMBRE        & 23            & CASADO        & 1             & 75            & 75            & PRIMARIA      &  850          &  800          & MUY\\_BUENO   & 20            &  5            & NO            & 3             & 3             & 2            \\\\\n",
       "\t 18            & HOMBRE        & 27            & OTRO          & 2             & 60            & 62            & BACHILLER     &  750          &  400          & EXCELENTE     & 25            &  7            & NO            & 3             & 3             & 2            \\\\\n",
       "\t 19            & MUJER         & 28            & OTRO          & 2             & 59            & 58            & BACHILLER     & 1000          &  650          & MALO          & 20            & 10            & NO            & 4             & 4             & 3            \\\\\n",
       "\t 20            & HOMBRE        & 29            & OTRO          & 1             & 76            & 73            & POSTGRADO     & 3500          & 2000          & MALO          & 35            &  4            & SI            & 4             & 4             & 3            \\\\\n",
       "\t 21            & HOMBRE        & 25            & CASADO        & 0             & 75            & 74            & TECNICO       &  900          &  800          & REGULAR       & 55            &  3            & SI            & 4             & 3             & 2            \\\\\n",
       "\t 22            & HOMBRE        & 30            & SOLTERO       & 0             & 75            & 75            & POSTGRADO     & 1850          & 1850          & REGULAR       & 40            &  5            & NO            & 5             & 4             & 2            \\\\\n",
       "\t 23            & HOMBRE        & 32            & SOLTERO       & 0             & 78            & 77            & UNIVERSITARIO &  700          &  700          & EXCELENTE     & 30            &  8            & SI            & 2             & 2             & 2            \\\\\n",
       "\t 24            & HOMBRE        & 32            & CASADO        & 2             & 76            & 75            & UNIVERSITARIO &  680          &  650          & REGULAR       & 35            &  5            & NO            & 5             & 3             & 2            \\\\\n",
       "\t 25            & HOMBRE        & 37            & CASADO        & 1             & 69            & 68            & PRIMARIA      &  720          &  700          & EXCELENTE     & 12            & 10            & NO            & 2             & 2             & 1            \\\\\n",
       "\t 26            & HOMBRE        & 40            & CASADO        & 4             & 72            & 70            & BACHILLER     & 3500          & 3400          & MUY\\_BUENO   & 35            &  6            & SI            & 4             & 2             & 1            \\\\\n",
       "\t 27            & HOMBRE        & 42            & CASADO        & 1             & 74            & 71            & UNIVERSITARIO & 1800          & 1500          & MALO          & 20            &  4            & SI            & 3             & 3             & 3            \\\\\n",
       "\t 28            & HOMBRE        & 43            & CASADO        & 1             & 70            & 68            & TECNICO       & 1500          & 1200          & MALO          & 35            &  5            & SI            & 5             & 3             & 3            \\\\\n",
       "\t 29            & HOMBRE        & 44            & CASADO        & 2             & 87            & 85            & POSTGRADO     & 3500          & 3000          & MALO          & 45            &  8            & SI            & 2             & 1             & 1            \\\\\n",
       "\t 30            & MUJER         & 32            & CASADO        & 2             & 79            & 67            & POSTGRADO     & 2400          & 2000          & MALO          & 25            &  6            & SI            & 3             & 1             & 1            \\\\\n",
       "\t ... & ... & ... & ... & ... & ... & ... & ... & ... & ... & ... & ... & ... & ... & ... & ... & ...\\\\\n",
       "\t  71           & HOMBRE        & 44            & CASADO        & 2             & 87            & 85            & POSTGRADO     & 3500          & 3000          & MALO          & 45            &  8            & SI            & 2             & 1             & 1            \\\\\n",
       "\t  72           & MUJER         & 32            & CASADO        & 2             & 79            & 67            & POSTGRADO     & 2400          & 2000          & MALO          & 25            &  6            & SI            & 3             & 1             & 1            \\\\\n",
       "\t  73           & MUJER         & 33            & CASADO        & 1             & 58            & 55            & UNIVERSITARIO & 3200          & 3100          & MALO          & 38            &  4            & NO            & 5             & 2             & 2            \\\\\n",
       "\t  74           & MUJER         & 35            & SOLTERO       & 0             & 70            & 65            & UNIVERSITARIO &  800          &  800          & BUENO         & 46            &  5            & SI            & 3             & 3             & 2            \\\\\n",
       "\t  75           & HOMBRE        & 39            & SOLTERO       & 1             & 94            & 90            & PRIMARIA      & 1200          & 1000          & BUENO         & 30            &  7            & SI            & 3             & 3             & 2            \\\\\n",
       "\t  76           & MUJER         & 40            & DIVORCIADO    & 3             & 71            & 68            & TECNICO       & 1300          & 1100          & BUENO         & 30            &  3            & NO            & 5             & 2             & 1            \\\\\n",
       "\t  77           & MUJER         & 45            & DIVORCIADO    & 2             & 61            & 60            & PRIMARIA      &  750          &  750          & BUENO         & 25            &  5            & SI            & 3             & 2             & 2            \\\\\n",
       "\t  78           & HOMBRE        & 48            & CASADO        & 3             & 58            & 58            & PRIMARIA      &  680          &  650          & EXCELENTE     & 45            &  8            & SI            & 3             & 2             & 2            \\\\\n",
       "\t  79           & MUJER         & 49            & CASADO        & 5             & 61            & 62            & UNIVERSITARIO & 4000          & 3500          & MALO          & 40            &  4            & SI            & 4             & 1             & 1            \\\\\n",
       "\t  80           & MUJER         & 58            & OTRO          & 5             & 55            & 57            & PRIMARIA      & 1000          &  950          & MALO          & 40            &  4            & NO            & 3             & 1             & 1            \\\\\n",
       "\t  81           & MUJER         & 60            & OTRO          & 5             & 59            & 58            & BACHILLER     &  600          &  550          & EXCELENTE     & 30            &  7            & NO            & 3             & 1             & 1            \\\\\n",
       "\t  82           & MUJER         & 32            & CASADO        & 2             & 79            & 67            & TECNICO       & 2400          & 2000          & MALO          & 50            &  5            & SI            & 3             & 1             & 1            \\\\\n",
       "\t  83           & MUJER         & 33            & CASADO        & 1             & 58            & 55            & UNIVERSITARIO & 3200          & 3100          & MALO          & 45            &  6            & NO            & 5             & 3             & 3            \\\\\n",
       "\t  84           & MUJER         & 35            & SOLTERO       & 0             & 70            & 65            & PRIMARIA      &  800          &  800          & BUENO         & 50            &  5            & NO            & 2             & 2             & 1            \\\\\n",
       "\t  85           & MUJER         & 50            & CASADO        & 3             & 40            & 38            & PRIMARIA      &  600          &  600          & BUENO         & 10            &  5            & NO            & 5             & 4             & 3            \\\\\n",
       "\t  86           & HOMBRE        & 39            & SOLTERO       & 1             & 94            & 90            & POSTGRADO     & 4200          & 3800          & BUENO         & 22            &  4            & SI            & 4             & 2             & 2            \\\\\n",
       "\t  87           & MUJER         & 40            & DIVORCIADO    & 3             & 71            & 68            & UNIVERSITARIO & 2300          & 1100          & BUENO         & 25            & 15            & NO            & 4             & 1             & 1            \\\\\n",
       "\t  88           & MUJER         & 45            & DIVORCIADO    & 2             & 61            & 60            & BACHILLER     &  750          &  750          & BUENO         & 18            & 12            & NO            & 3             & 2             & 2            \\\\\n",
       "\t  89           & HOMBRE        & 48            & CASADO        & 3             & 58            & 58            & PRIMARIA      &  680          &  650          & REGULAR       & 20            &  8            & SI            & 3             & 2             & 2            \\\\\n",
       "\t  90           & MUJER         & 49            & CASADO        & 4             & 61            & 62            & TECNICO       & 4000          & 3500          & MALO          & 20            &  6            & SI            & 5             & 3             & 3            \\\\\n",
       "\t  91           & MUJER         & 58            & OTRO          & 2             & 55            & 57            & UNIVERSITARIO & 2800          & 2800          & MALO          & 40            & 10            & SI            & 3             & 2             & 1            \\\\\n",
       "\t  92           & MUJER         & 60            & OTRO          & 1             & 59            & 58            & TECNICO       & 1600          & 1550          & MALO          & 30            & 10            & SI            & 2             & 2             & 1            \\\\\n",
       "\t  93           & HOMBRE        & 39            & SOLTERO       & 1             & 94            & 90            & POSTGRADO     & 4200          & 3800          & BUENO         & 22            &  4            & SI            & 4             & 2             & 2            \\\\\n",
       "\t  94           & MUJER         & 40            & DIVORCIADO    & 3             & 71            & 68            & UNIVERSITARIO & 2300          & 1100          & BUENO         & 25            & 15            & NO            & 4             & 1             & 1            \\\\\n",
       "\t  95           & MUJER         & 45            & DIVORCIADO    & 2             & 61            & 60            & BACHILLER     &  750          &  750          & BUENO         & 18            & 12            & NO            & 3             & 2             & 2            \\\\\n",
       "\t  96           & HOMBRE        & 48            & CASADO        & 3             & 58            & 58            & BACHILLER     &  680          &  650          & REGULAR       & 20            &  8            & SI            & 3             & 2             & 2            \\\\\n",
       "\t  97           & MUJER         & 49            & CASADO        & 4             & 61            & 62            & UNIVERSITARIO & 4000          & 3500          & MALO          & 20            &  6            & SI            & 5             & 3             & 3            \\\\\n",
       "\t  98           & MUJER         & 58            & OTRO          & 2             & 55            & 57            & UNIVERSITARIO & 2800          & 2800          & MALO          & 40            & 10            & SI            & 3             & 2             & 1            \\\\\n",
       "\t  99           & MUJER         & 60            & OTRO          & 1             & 59            & 58            & TECNICO       & 1600          & 1550          & MALO          & 30            & 10            & SI            & 2             & 2             & 1            \\\\\n",
       "\t 100           & HOMBRE        & 19            & CASADO        & 0             & 62            & 60            & TECNICO       & 1650          & 1300          & EXCELENTE     & 38            &  3            & NO            & 5             & 3             & 1            \\\\\n",
       "\\end{tabular}\n"
      ],
      "text/markdown": [
       "\n",
       "No. | GENERO | EDAD | ESTADO_CIVIL | HIJOS | PESO_ANTES_DIETA | PESO_DESPUES_DIETA | NIVEL_EDUCATIVO | INGRESO | GASTOS | CALIFICACION_SERVIVCIO_TRANSPORTE | TIEMPO_RECORRIDO | GASTO_DIARIO_TRANSPORTE | VIVIENDA | PERSONAS_HOGAR | PERSONAS_EDAD_TRABAJAR | NUMERO_PERSONAS_EDAD_TRABAJAR | \n",
       "|---|---|---|---|---|---|---|---|---|---|---|---|---|---|---|---|---|---|---|---|---|---|---|---|---|---|---|---|---|---|---|---|---|---|---|---|---|---|---|---|---|---|---|---|---|---|---|---|---|---|---|---|---|---|---|---|---|---|---|---|---|\n",
       "|  1            | MUJER         | 32            | CASADO        | 3             | 79            | 67            | POSTGRADO     | 3400          | 2000          | MALO          | 20            |  6            | SI            | 5             | 4             | 2             | \n",
       "|  2            | MUJER         | 33            | CASADO        | 2             | 58            | 55            | POSTGRADO     | 4000          | 3100          | MALO          | 25            | 10            | NO            | 5             | 5             | 3             | \n",
       "|  3            | MUJER         | 35            | SOLTERO       | 0             | 70            | 65            | PRIMARIA      | 1100          |  800          | BUENO         | 40            |  6            | SI            | 3             | 2             | 1             | \n",
       "|  4            | HOMBRE        | 39            | SOLTERO       | 1             | 94            | 90            | POSTGRADO     | 5200          | 3800          | BUENO         | 22            |  4            | SI            | 4             | 2             | 2             | \n",
       "|  5            | MUJER         | 40            | DIVORCIADO    | 3             | 71            | 68            | POSTGRADO     | 3000          | 1100          | BUENO         | 25            | 15            | NO            | 4             | 1             | 1             | \n",
       "|  6            | MUJER         | 45            | DIVORCIADO    | 2             | 61            | 60            | TECNICO       |  750          |  750          | BUENO         | 18            | 12            | NO            | 3             | 2             | 2             | \n",
       "|  7            | HOMBRE        | 48            | CASADO        | 3             | 58            | 58            | UNIVERSITARIO |  680          |  650          | REGULAR       | 20            |  8            | SI            | 3             | 2             | 2             | \n",
       "|  8            | MUJER         | 49            | CASADO        | 4             | 61            | 62            | PRIMARIA      | 4000          | 3500          | MALO          | 20            |  6            | SI            | 5             | 3             | 3             | \n",
       "|  9            | MUJER         | 58            | OTRO          | 2             | 55            | 57            | PRIMARIA      | 1800          | 1800          | MALO          | 40            | 10            | SI            | 3             | 2             | 1             | \n",
       "| 10            | MUJER         | 60            | OTRO          | 1             | 59            | 58            | BACHILLER     | 1600          | 1550          | MALO          | 30            | 10            | SI            | 2             | 2             | 1             | \n",
       "| 11            | HOMBRE        | 19            | CASADO        | 0             | 62            | 60            | TECNICO       | 1650          | 1300          | EXCELENTE     | 38            |  3            | NO            | 5             | 3             | 1             | \n",
       "| 12            | HOMBRE        | 20            | SOLTERO       | 0             | 75            | 77            | TECNICO       |  600          |  600          | BUENO         | 10            |  3            | NO            | 1             | 1             | 1             | \n",
       "| 13            | MUJER         | 19            | SOLTERO       | 0             | 48            | 48            | TECNICO       |  800          |  750          | BUENO         | 15            |  3            | NO            | 5             | 4             | 2             | \n",
       "| 14            | HOMBRE        | 22            | SOLTERO       | 1             | 66            | 64            | TECNICO       |  650          |  400          | BUENO         | 15            |  5            | NO            | 2             | 2             | 2             | \n",
       "| 15            | HOMBRE        | 22            | SOLTERO       | 0             | 70            | 67            | PRIMARIA      |  500          |  500          | MUY_BUENO     | 45            |  5            | SI            | 2             | 2             | 2             | \n",
       "| 16            | MUJER         | 24            | CASADO        | 1             | 53            | 50            | PRIMARIA      | 1200          | 1100          | MALO          | 40            | 10            | SI            | 5             | 3             | 2             | \n",
       "| 17            | HOMBRE        | 23            | CASADO        | 1             | 75            | 75            | PRIMARIA      |  850          |  800          | MUY_BUENO     | 20            |  5            | NO            | 3             | 3             | 2             | \n",
       "| 18            | HOMBRE        | 27            | OTRO          | 2             | 60            | 62            | BACHILLER     |  750          |  400          | EXCELENTE     | 25            |  7            | NO            | 3             | 3             | 2             | \n",
       "| 19            | MUJER         | 28            | OTRO          | 2             | 59            | 58            | BACHILLER     | 1000          |  650          | MALO          | 20            | 10            | NO            | 4             | 4             | 3             | \n",
       "| 20            | HOMBRE        | 29            | OTRO          | 1             | 76            | 73            | POSTGRADO     | 3500          | 2000          | MALO          | 35            |  4            | SI            | 4             | 4             | 3             | \n",
       "| 21            | HOMBRE        | 25            | CASADO        | 0             | 75            | 74            | TECNICO       |  900          |  800          | REGULAR       | 55            |  3            | SI            | 4             | 3             | 2             | \n",
       "| 22            | HOMBRE        | 30            | SOLTERO       | 0             | 75            | 75            | POSTGRADO     | 1850          | 1850          | REGULAR       | 40            |  5            | NO            | 5             | 4             | 2             | \n",
       "| 23            | HOMBRE        | 32            | SOLTERO       | 0             | 78            | 77            | UNIVERSITARIO |  700          |  700          | EXCELENTE     | 30            |  8            | SI            | 2             | 2             | 2             | \n",
       "| 24            | HOMBRE        | 32            | CASADO        | 2             | 76            | 75            | UNIVERSITARIO |  680          |  650          | REGULAR       | 35            |  5            | NO            | 5             | 3             | 2             | \n",
       "| 25            | HOMBRE        | 37            | CASADO        | 1             | 69            | 68            | PRIMARIA      |  720          |  700          | EXCELENTE     | 12            | 10            | NO            | 2             | 2             | 1             | \n",
       "| 26            | HOMBRE        | 40            | CASADO        | 4             | 72            | 70            | BACHILLER     | 3500          | 3400          | MUY_BUENO     | 35            |  6            | SI            | 4             | 2             | 1             | \n",
       "| 27            | HOMBRE        | 42            | CASADO        | 1             | 74            | 71            | UNIVERSITARIO | 1800          | 1500          | MALO          | 20            |  4            | SI            | 3             | 3             | 3             | \n",
       "| 28            | HOMBRE        | 43            | CASADO        | 1             | 70            | 68            | TECNICO       | 1500          | 1200          | MALO          | 35            |  5            | SI            | 5             | 3             | 3             | \n",
       "| 29            | HOMBRE        | 44            | CASADO        | 2             | 87            | 85            | POSTGRADO     | 3500          | 3000          | MALO          | 45            |  8            | SI            | 2             | 1             | 1             | \n",
       "| 30            | MUJER         | 32            | CASADO        | 2             | 79            | 67            | POSTGRADO     | 2400          | 2000          | MALO          | 25            |  6            | SI            | 3             | 1             | 1             | \n",
       "| ... | ... | ... | ... | ... | ... | ... | ... | ... | ... | ... | ... | ... | ... | ... | ... | ... | \n",
       "|  71           | HOMBRE        | 44            | CASADO        | 2             | 87            | 85            | POSTGRADO     | 3500          | 3000          | MALO          | 45            |  8            | SI            | 2             | 1             | 1             | \n",
       "|  72           | MUJER         | 32            | CASADO        | 2             | 79            | 67            | POSTGRADO     | 2400          | 2000          | MALO          | 25            |  6            | SI            | 3             | 1             | 1             | \n",
       "|  73           | MUJER         | 33            | CASADO        | 1             | 58            | 55            | UNIVERSITARIO | 3200          | 3100          | MALO          | 38            |  4            | NO            | 5             | 2             | 2             | \n",
       "|  74           | MUJER         | 35            | SOLTERO       | 0             | 70            | 65            | UNIVERSITARIO |  800          |  800          | BUENO         | 46            |  5            | SI            | 3             | 3             | 2             | \n",
       "|  75           | HOMBRE        | 39            | SOLTERO       | 1             | 94            | 90            | PRIMARIA      | 1200          | 1000          | BUENO         | 30            |  7            | SI            | 3             | 3             | 2             | \n",
       "|  76           | MUJER         | 40            | DIVORCIADO    | 3             | 71            | 68            | TECNICO       | 1300          | 1100          | BUENO         | 30            |  3            | NO            | 5             | 2             | 1             | \n",
       "|  77           | MUJER         | 45            | DIVORCIADO    | 2             | 61            | 60            | PRIMARIA      |  750          |  750          | BUENO         | 25            |  5            | SI            | 3             | 2             | 2             | \n",
       "|  78           | HOMBRE        | 48            | CASADO        | 3             | 58            | 58            | PRIMARIA      |  680          |  650          | EXCELENTE     | 45            |  8            | SI            | 3             | 2             | 2             | \n",
       "|  79           | MUJER         | 49            | CASADO        | 5             | 61            | 62            | UNIVERSITARIO | 4000          | 3500          | MALO          | 40            |  4            | SI            | 4             | 1             | 1             | \n",
       "|  80           | MUJER         | 58            | OTRO          | 5             | 55            | 57            | PRIMARIA      | 1000          |  950          | MALO          | 40            |  4            | NO            | 3             | 1             | 1             | \n",
       "|  81           | MUJER         | 60            | OTRO          | 5             | 59            | 58            | BACHILLER     |  600          |  550          | EXCELENTE     | 30            |  7            | NO            | 3             | 1             | 1             | \n",
       "|  82           | MUJER         | 32            | CASADO        | 2             | 79            | 67            | TECNICO       | 2400          | 2000          | MALO          | 50            |  5            | SI            | 3             | 1             | 1             | \n",
       "|  83           | MUJER         | 33            | CASADO        | 1             | 58            | 55            | UNIVERSITARIO | 3200          | 3100          | MALO          | 45            |  6            | NO            | 5             | 3             | 3             | \n",
       "|  84           | MUJER         | 35            | SOLTERO       | 0             | 70            | 65            | PRIMARIA      |  800          |  800          | BUENO         | 50            |  5            | NO            | 2             | 2             | 1             | \n",
       "|  85           | MUJER         | 50            | CASADO        | 3             | 40            | 38            | PRIMARIA      |  600          |  600          | BUENO         | 10            |  5            | NO            | 5             | 4             | 3             | \n",
       "|  86           | HOMBRE        | 39            | SOLTERO       | 1             | 94            | 90            | POSTGRADO     | 4200          | 3800          | BUENO         | 22            |  4            | SI            | 4             | 2             | 2             | \n",
       "|  87           | MUJER         | 40            | DIVORCIADO    | 3             | 71            | 68            | UNIVERSITARIO | 2300          | 1100          | BUENO         | 25            | 15            | NO            | 4             | 1             | 1             | \n",
       "|  88           | MUJER         | 45            | DIVORCIADO    | 2             | 61            | 60            | BACHILLER     |  750          |  750          | BUENO         | 18            | 12            | NO            | 3             | 2             | 2             | \n",
       "|  89           | HOMBRE        | 48            | CASADO        | 3             | 58            | 58            | PRIMARIA      |  680          |  650          | REGULAR       | 20            |  8            | SI            | 3             | 2             | 2             | \n",
       "|  90           | MUJER         | 49            | CASADO        | 4             | 61            | 62            | TECNICO       | 4000          | 3500          | MALO          | 20            |  6            | SI            | 5             | 3             | 3             | \n",
       "|  91           | MUJER         | 58            | OTRO          | 2             | 55            | 57            | UNIVERSITARIO | 2800          | 2800          | MALO          | 40            | 10            | SI            | 3             | 2             | 1             | \n",
       "|  92           | MUJER         | 60            | OTRO          | 1             | 59            | 58            | TECNICO       | 1600          | 1550          | MALO          | 30            | 10            | SI            | 2             | 2             | 1             | \n",
       "|  93           | HOMBRE        | 39            | SOLTERO       | 1             | 94            | 90            | POSTGRADO     | 4200          | 3800          | BUENO         | 22            |  4            | SI            | 4             | 2             | 2             | \n",
       "|  94           | MUJER         | 40            | DIVORCIADO    | 3             | 71            | 68            | UNIVERSITARIO | 2300          | 1100          | BUENO         | 25            | 15            | NO            | 4             | 1             | 1             | \n",
       "|  95           | MUJER         | 45            | DIVORCIADO    | 2             | 61            | 60            | BACHILLER     |  750          |  750          | BUENO         | 18            | 12            | NO            | 3             | 2             | 2             | \n",
       "|  96           | HOMBRE        | 48            | CASADO        | 3             | 58            | 58            | BACHILLER     |  680          |  650          | REGULAR       | 20            |  8            | SI            | 3             | 2             | 2             | \n",
       "|  97           | MUJER         | 49            | CASADO        | 4             | 61            | 62            | UNIVERSITARIO | 4000          | 3500          | MALO          | 20            |  6            | SI            | 5             | 3             | 3             | \n",
       "|  98           | MUJER         | 58            | OTRO          | 2             | 55            | 57            | UNIVERSITARIO | 2800          | 2800          | MALO          | 40            | 10            | SI            | 3             | 2             | 1             | \n",
       "|  99           | MUJER         | 60            | OTRO          | 1             | 59            | 58            | TECNICO       | 1600          | 1550          | MALO          | 30            | 10            | SI            | 2             | 2             | 1             | \n",
       "| 100           | HOMBRE        | 19            | CASADO        | 0             | 62            | 60            | TECNICO       | 1650          | 1300          | EXCELENTE     | 38            |  3            | NO            | 5             | 3             | 1             | \n",
       "\n",
       "\n"
      ],
      "text/plain": [
       "    No. GENERO EDAD ESTADO_CIVIL HIJOS PESO_ANTES_DIETA PESO_DESPUES_DIETA\n",
       "1    1  MUJER  32   CASADO       3     79               67                \n",
       "2    2  MUJER  33   CASADO       2     58               55                \n",
       "3    3  MUJER  35   SOLTERO      0     70               65                \n",
       "4    4  HOMBRE 39   SOLTERO      1     94               90                \n",
       "5    5  MUJER  40   DIVORCIADO   3     71               68                \n",
       "6    6  MUJER  45   DIVORCIADO   2     61               60                \n",
       "7    7  HOMBRE 48   CASADO       3     58               58                \n",
       "8    8  MUJER  49   CASADO       4     61               62                \n",
       "9    9  MUJER  58   OTRO         2     55               57                \n",
       "10  10  MUJER  60   OTRO         1     59               58                \n",
       "11  11  HOMBRE 19   CASADO       0     62               60                \n",
       "12  12  HOMBRE 20   SOLTERO      0     75               77                \n",
       "13  13  MUJER  19   SOLTERO      0     48               48                \n",
       "14  14  HOMBRE 22   SOLTERO      1     66               64                \n",
       "15  15  HOMBRE 22   SOLTERO      0     70               67                \n",
       "16  16  MUJER  24   CASADO       1     53               50                \n",
       "17  17  HOMBRE 23   CASADO       1     75               75                \n",
       "18  18  HOMBRE 27   OTRO         2     60               62                \n",
       "19  19  MUJER  28   OTRO         2     59               58                \n",
       "20  20  HOMBRE 29   OTRO         1     76               73                \n",
       "21  21  HOMBRE 25   CASADO       0     75               74                \n",
       "22  22  HOMBRE 30   SOLTERO      0     75               75                \n",
       "23  23  HOMBRE 32   SOLTERO      0     78               77                \n",
       "24  24  HOMBRE 32   CASADO       2     76               75                \n",
       "25  25  HOMBRE 37   CASADO       1     69               68                \n",
       "26  26  HOMBRE 40   CASADO       4     72               70                \n",
       "27  27  HOMBRE 42   CASADO       1     74               71                \n",
       "28  28  HOMBRE 43   CASADO       1     70               68                \n",
       "29  29  HOMBRE 44   CASADO       2     87               85                \n",
       "30  30  MUJER  32   CASADO       2     79               67                \n",
       "... ... ...    ...  ...          ...   ...              ...               \n",
       "71   71 HOMBRE 44   CASADO       2     87               85                \n",
       "72   72 MUJER  32   CASADO       2     79               67                \n",
       "73   73 MUJER  33   CASADO       1     58               55                \n",
       "74   74 MUJER  35   SOLTERO      0     70               65                \n",
       "75   75 HOMBRE 39   SOLTERO      1     94               90                \n",
       "76   76 MUJER  40   DIVORCIADO   3     71               68                \n",
       "77   77 MUJER  45   DIVORCIADO   2     61               60                \n",
       "78   78 HOMBRE 48   CASADO       3     58               58                \n",
       "79   79 MUJER  49   CASADO       5     61               62                \n",
       "80   80 MUJER  58   OTRO         5     55               57                \n",
       "81   81 MUJER  60   OTRO         5     59               58                \n",
       "82   82 MUJER  32   CASADO       2     79               67                \n",
       "83   83 MUJER  33   CASADO       1     58               55                \n",
       "84   84 MUJER  35   SOLTERO      0     70               65                \n",
       "85   85 MUJER  50   CASADO       3     40               38                \n",
       "86   86 HOMBRE 39   SOLTERO      1     94               90                \n",
       "87   87 MUJER  40   DIVORCIADO   3     71               68                \n",
       "88   88 MUJER  45   DIVORCIADO   2     61               60                \n",
       "89   89 HOMBRE 48   CASADO       3     58               58                \n",
       "90   90 MUJER  49   CASADO       4     61               62                \n",
       "91   91 MUJER  58   OTRO         2     55               57                \n",
       "92   92 MUJER  60   OTRO         1     59               58                \n",
       "93   93 HOMBRE 39   SOLTERO      1     94               90                \n",
       "94   94 MUJER  40   DIVORCIADO   3     71               68                \n",
       "95   95 MUJER  45   DIVORCIADO   2     61               60                \n",
       "96   96 HOMBRE 48   CASADO       3     58               58                \n",
       "97   97 MUJER  49   CASADO       4     61               62                \n",
       "98   98 MUJER  58   OTRO         2     55               57                \n",
       "99   99 MUJER  60   OTRO         1     59               58                \n",
       "100 100 HOMBRE 19   CASADO       0     62               60                \n",
       "    NIVEL_EDUCATIVO INGRESO GASTOS CALIFICACION_SERVIVCIO_TRANSPORTE\n",
       "1   POSTGRADO       3400    2000   MALO                             \n",
       "2   POSTGRADO       4000    3100   MALO                             \n",
       "3   PRIMARIA        1100     800   BUENO                            \n",
       "4   POSTGRADO       5200    3800   BUENO                            \n",
       "5   POSTGRADO       3000    1100   BUENO                            \n",
       "6   TECNICO          750     750   BUENO                            \n",
       "7   UNIVERSITARIO    680     650   REGULAR                          \n",
       "8   PRIMARIA        4000    3500   MALO                             \n",
       "9   PRIMARIA        1800    1800   MALO                             \n",
       "10  BACHILLER       1600    1550   MALO                             \n",
       "11  TECNICO         1650    1300   EXCELENTE                        \n",
       "12  TECNICO          600     600   BUENO                            \n",
       "13  TECNICO          800     750   BUENO                            \n",
       "14  TECNICO          650     400   BUENO                            \n",
       "15  PRIMARIA         500     500   MUY_BUENO                        \n",
       "16  PRIMARIA        1200    1100   MALO                             \n",
       "17  PRIMARIA         850     800   MUY_BUENO                        \n",
       "18  BACHILLER        750     400   EXCELENTE                        \n",
       "19  BACHILLER       1000     650   MALO                             \n",
       "20  POSTGRADO       3500    2000   MALO                             \n",
       "21  TECNICO          900     800   REGULAR                          \n",
       "22  POSTGRADO       1850    1850   REGULAR                          \n",
       "23  UNIVERSITARIO    700     700   EXCELENTE                        \n",
       "24  UNIVERSITARIO    680     650   REGULAR                          \n",
       "25  PRIMARIA         720     700   EXCELENTE                        \n",
       "26  BACHILLER       3500    3400   MUY_BUENO                        \n",
       "27  UNIVERSITARIO   1800    1500   MALO                             \n",
       "28  TECNICO         1500    1200   MALO                             \n",
       "29  POSTGRADO       3500    3000   MALO                             \n",
       "30  POSTGRADO       2400    2000   MALO                             \n",
       "... ...             ...     ...    ...                              \n",
       "71  POSTGRADO       3500    3000   MALO                             \n",
       "72  POSTGRADO       2400    2000   MALO                             \n",
       "73  UNIVERSITARIO   3200    3100   MALO                             \n",
       "74  UNIVERSITARIO    800     800   BUENO                            \n",
       "75  PRIMARIA        1200    1000   BUENO                            \n",
       "76  TECNICO         1300    1100   BUENO                            \n",
       "77  PRIMARIA         750     750   BUENO                            \n",
       "78  PRIMARIA         680     650   EXCELENTE                        \n",
       "79  UNIVERSITARIO   4000    3500   MALO                             \n",
       "80  PRIMARIA        1000     950   MALO                             \n",
       "81  BACHILLER        600     550   EXCELENTE                        \n",
       "82  TECNICO         2400    2000   MALO                             \n",
       "83  UNIVERSITARIO   3200    3100   MALO                             \n",
       "84  PRIMARIA         800     800   BUENO                            \n",
       "85  PRIMARIA         600     600   BUENO                            \n",
       "86  POSTGRADO       4200    3800   BUENO                            \n",
       "87  UNIVERSITARIO   2300    1100   BUENO                            \n",
       "88  BACHILLER        750     750   BUENO                            \n",
       "89  PRIMARIA         680     650   REGULAR                          \n",
       "90  TECNICO         4000    3500   MALO                             \n",
       "91  UNIVERSITARIO   2800    2800   MALO                             \n",
       "92  TECNICO         1600    1550   MALO                             \n",
       "93  POSTGRADO       4200    3800   BUENO                            \n",
       "94  UNIVERSITARIO   2300    1100   BUENO                            \n",
       "95  BACHILLER        750     750   BUENO                            \n",
       "96  BACHILLER        680     650   REGULAR                          \n",
       "97  UNIVERSITARIO   4000    3500   MALO                             \n",
       "98  UNIVERSITARIO   2800    2800   MALO                             \n",
       "99  TECNICO         1600    1550   MALO                             \n",
       "100 TECNICO         1650    1300   EXCELENTE                        \n",
       "    TIEMPO_RECORRIDO GASTO_DIARIO_TRANSPORTE VIVIENDA PERSONAS_HOGAR\n",
       "1   20                6                      SI       5             \n",
       "2   25               10                      NO       5             \n",
       "3   40                6                      SI       3             \n",
       "4   22                4                      SI       4             \n",
       "5   25               15                      NO       4             \n",
       "6   18               12                      NO       3             \n",
       "7   20                8                      SI       3             \n",
       "8   20                6                      SI       5             \n",
       "9   40               10                      SI       3             \n",
       "10  30               10                      SI       2             \n",
       "11  38                3                      NO       5             \n",
       "12  10                3                      NO       1             \n",
       "13  15                3                      NO       5             \n",
       "14  15                5                      NO       2             \n",
       "15  45                5                      SI       2             \n",
       "16  40               10                      SI       5             \n",
       "17  20                5                      NO       3             \n",
       "18  25                7                      NO       3             \n",
       "19  20               10                      NO       4             \n",
       "20  35                4                      SI       4             \n",
       "21  55                3                      SI       4             \n",
       "22  40                5                      NO       5             \n",
       "23  30                8                      SI       2             \n",
       "24  35                5                      NO       5             \n",
       "25  12               10                      NO       2             \n",
       "26  35                6                      SI       4             \n",
       "27  20                4                      SI       3             \n",
       "28  35                5                      SI       5             \n",
       "29  45                8                      SI       2             \n",
       "30  25                6                      SI       3             \n",
       "... ...              ...                     ...      ...           \n",
       "71  45                8                      SI       2             \n",
       "72  25                6                      SI       3             \n",
       "73  38                4                      NO       5             \n",
       "74  46                5                      SI       3             \n",
       "75  30                7                      SI       3             \n",
       "76  30                3                      NO       5             \n",
       "77  25                5                      SI       3             \n",
       "78  45                8                      SI       3             \n",
       "79  40                4                      SI       4             \n",
       "80  40                4                      NO       3             \n",
       "81  30                7                      NO       3             \n",
       "82  50                5                      SI       3             \n",
       "83  45                6                      NO       5             \n",
       "84  50                5                      NO       2             \n",
       "85  10                5                      NO       5             \n",
       "86  22                4                      SI       4             \n",
       "87  25               15                      NO       4             \n",
       "88  18               12                      NO       3             \n",
       "89  20                8                      SI       3             \n",
       "90  20                6                      SI       5             \n",
       "91  40               10                      SI       3             \n",
       "92  30               10                      SI       2             \n",
       "93  22                4                      SI       4             \n",
       "94  25               15                      NO       4             \n",
       "95  18               12                      NO       3             \n",
       "96  20                8                      SI       3             \n",
       "97  20                6                      SI       5             \n",
       "98  40               10                      SI       3             \n",
       "99  30               10                      SI       2             \n",
       "100 38                3                      NO       5             \n",
       "    PERSONAS_EDAD_TRABAJAR NUMERO_PERSONAS_EDAD_TRABAJAR\n",
       "1   4                      2                            \n",
       "2   5                      3                            \n",
       "3   2                      1                            \n",
       "4   2                      2                            \n",
       "5   1                      1                            \n",
       "6   2                      2                            \n",
       "7   2                      2                            \n",
       "8   3                      3                            \n",
       "9   2                      1                            \n",
       "10  2                      1                            \n",
       "11  3                      1                            \n",
       "12  1                      1                            \n",
       "13  4                      2                            \n",
       "14  2                      2                            \n",
       "15  2                      2                            \n",
       "16  3                      2                            \n",
       "17  3                      2                            \n",
       "18  3                      2                            \n",
       "19  4                      3                            \n",
       "20  4                      3                            \n",
       "21  3                      2                            \n",
       "22  4                      2                            \n",
       "23  2                      2                            \n",
       "24  3                      2                            \n",
       "25  2                      1                            \n",
       "26  2                      1                            \n",
       "27  3                      3                            \n",
       "28  3                      3                            \n",
       "29  1                      1                            \n",
       "30  1                      1                            \n",
       "... ...                    ...                          \n",
       "71  1                      1                            \n",
       "72  1                      1                            \n",
       "73  2                      2                            \n",
       "74  3                      2                            \n",
       "75  3                      2                            \n",
       "76  2                      1                            \n",
       "77  2                      2                            \n",
       "78  2                      2                            \n",
       "79  1                      1                            \n",
       "80  1                      1                            \n",
       "81  1                      1                            \n",
       "82  1                      1                            \n",
       "83  3                      3                            \n",
       "84  2                      1                            \n",
       "85  4                      3                            \n",
       "86  2                      2                            \n",
       "87  1                      1                            \n",
       "88  2                      2                            \n",
       "89  2                      2                            \n",
       "90  3                      3                            \n",
       "91  2                      1                            \n",
       "92  2                      1                            \n",
       "93  2                      2                            \n",
       "94  1                      1                            \n",
       "95  2                      2                            \n",
       "96  2                      2                            \n",
       "97  3                      3                            \n",
       "98  2                      1                            \n",
       "99  2                      1                            \n",
       "100 3                      1                            "
      ]
     },
     "metadata": {},
     "output_type": "display_data"
    }
   ],
   "source": [
    "library(readxl)\n",
    "DATOS <- read_excel(\"DATOS.xlsx\")\n",
    "DATOS"
   ]
  },
  {
   "cell_type": "markdown",
   "metadata": {},
   "source": [
    "Se crea la variable DIFERENCIA_PESO restando al peso antes de la dieta el peso después de la dieta. Luego visualizamos una tabla de frecuencia para esta variable"
   ]
  },
  {
   "cell_type": "code",
   "execution_count": 64,
   "metadata": {},
   "outputs": [
    {
     "data": {
      "text/html": [
       "<table>\n",
       "<thead><tr><th scope=col>DIFERENCIA_PESO</th><th scope=col>Freq</th></tr></thead>\n",
       "<tbody>\n",
       "\t<tr><td>-2</td><td>10</td></tr>\n",
       "\t<tr><td>-1</td><td> 6</td></tr>\n",
       "\t<tr><td>0 </td><td>12</td></tr>\n",
       "\t<tr><td>1 </td><td>22</td></tr>\n",
       "\t<tr><td>2 </td><td>14</td></tr>\n",
       "\t<tr><td>3 </td><td>20</td></tr>\n",
       "\t<tr><td>4 </td><td> 6</td></tr>\n",
       "\t<tr><td>5 </td><td> 5</td></tr>\n",
       "\t<tr><td>12</td><td> 5</td></tr>\n",
       "</tbody>\n",
       "</table>\n"
      ],
      "text/latex": [
       "\\begin{tabular}{r|ll}\n",
       " DIFERENCIA\\_PESO & Freq\\\\\n",
       "\\hline\n",
       "\t -2 & 10\\\\\n",
       "\t -1 &  6\\\\\n",
       "\t 0  & 12\\\\\n",
       "\t 1  & 22\\\\\n",
       "\t 2  & 14\\\\\n",
       "\t 3  & 20\\\\\n",
       "\t 4  &  6\\\\\n",
       "\t 5  &  5\\\\\n",
       "\t 12 &  5\\\\\n",
       "\\end{tabular}\n"
      ],
      "text/markdown": [
       "\n",
       "DIFERENCIA_PESO | Freq | \n",
       "|---|---|---|---|---|---|---|---|---|\n",
       "| -2 | 10 | \n",
       "| -1 |  6 | \n",
       "| 0  | 12 | \n",
       "| 1  | 22 | \n",
       "| 2  | 14 | \n",
       "| 3  | 20 | \n",
       "| 4  |  6 | \n",
       "| 5  |  5 | \n",
       "| 12 |  5 | \n",
       "\n",
       "\n"
      ],
      "text/plain": [
       "  DIFERENCIA_PESO Freq\n",
       "1 -2              10  \n",
       "2 -1               6  \n",
       "3 0               12  \n",
       "4 1               22  \n",
       "5 2               14  \n",
       "6 3               20  \n",
       "7 4                6  \n",
       "8 5                5  \n",
       "9 12               5  "
      ]
     },
     "metadata": {},
     "output_type": "display_data"
    }
   ],
   "source": [
    "DIFERENCIA_PESO = DATOS$PESO_ANTES_DIETA - DATOS$PESO_DESPUES_DIETA\n",
    "tabla1  = data.frame(table(DIFERENCIA_PESO))\n",
    "tabla1"
   ]
  },
  {
   "cell_type": "markdown",
   "metadata": {},
   "source": [
    "Se crea otra tabla con los valores de **Frecuencia**, **Frecuencia acumulada**, **Frecuencia relativa** y **Frecuencia realativa acumulada**"
   ]
  },
  {
   "cell_type": "code",
   "execution_count": 65,
   "metadata": {},
   "outputs": [
    {
     "data": {
      "text/html": [
       "<table>\n",
       "<thead><tr><th scope=col>DIFERENCIA_PESO</th><th scope=col>Freq</th><th scope=col>Freac</th><th scope=col>Frela</th><th scope=col>Freac.1</th></tr></thead>\n",
       "<tbody>\n",
       "\t<tr><td>-2  </td><td>10  </td><td> 10 </td><td>0.10</td><td>0.10</td></tr>\n",
       "\t<tr><td>-1  </td><td> 6  </td><td> 16 </td><td>0.06</td><td>0.16</td></tr>\n",
       "\t<tr><td>0   </td><td>12  </td><td> 28 </td><td>0.12</td><td>0.28</td></tr>\n",
       "\t<tr><td>1   </td><td>22  </td><td> 50 </td><td>0.22</td><td>0.50</td></tr>\n",
       "\t<tr><td>2   </td><td>14  </td><td> 64 </td><td>0.14</td><td>0.64</td></tr>\n",
       "\t<tr><td>3   </td><td>20  </td><td> 84 </td><td>0.20</td><td>0.84</td></tr>\n",
       "\t<tr><td>4   </td><td> 6  </td><td> 90 </td><td>0.06</td><td>0.90</td></tr>\n",
       "\t<tr><td>5   </td><td> 5  </td><td> 95 </td><td>0.05</td><td>0.95</td></tr>\n",
       "\t<tr><td>12  </td><td> 5  </td><td>100 </td><td>0.05</td><td>1.00</td></tr>\n",
       "</tbody>\n",
       "</table>\n"
      ],
      "text/latex": [
       "\\begin{tabular}{r|lllll}\n",
       " DIFERENCIA\\_PESO & Freq & Freac & Frela & Freac.1\\\\\n",
       "\\hline\n",
       "\t -2   & 10   &  10  & 0.10 & 0.10\\\\\n",
       "\t -1   &  6   &  16  & 0.06 & 0.16\\\\\n",
       "\t 0    & 12   &  28  & 0.12 & 0.28\\\\\n",
       "\t 1    & 22   &  50  & 0.22 & 0.50\\\\\n",
       "\t 2    & 14   &  64  & 0.14 & 0.64\\\\\n",
       "\t 3    & 20   &  84  & 0.20 & 0.84\\\\\n",
       "\t 4    &  6   &  90  & 0.06 & 0.90\\\\\n",
       "\t 5    &  5   &  95  & 0.05 & 0.95\\\\\n",
       "\t 12   &  5   & 100  & 0.05 & 1.00\\\\\n",
       "\\end{tabular}\n"
      ],
      "text/markdown": [
       "\n",
       "DIFERENCIA_PESO | Freq | Freac | Frela | Freac.1 | \n",
       "|---|---|---|---|---|---|---|---|---|\n",
       "| -2   | 10   |  10  | 0.10 | 0.10 | \n",
       "| -1   |  6   |  16  | 0.06 | 0.16 | \n",
       "| 0    | 12   |  28  | 0.12 | 0.28 | \n",
       "| 1    | 22   |  50  | 0.22 | 0.50 | \n",
       "| 2    | 14   |  64  | 0.14 | 0.64 | \n",
       "| 3    | 20   |  84  | 0.20 | 0.84 | \n",
       "| 4    |  6   |  90  | 0.06 | 0.90 | \n",
       "| 5    |  5   |  95  | 0.05 | 0.95 | \n",
       "| 12   |  5   | 100  | 0.05 | 1.00 | \n",
       "\n",
       "\n"
      ],
      "text/plain": [
       "  DIFERENCIA_PESO Freq Freac Frela Freac.1\n",
       "1 -2              10    10   0.10  0.10   \n",
       "2 -1               6    16   0.06  0.16   \n",
       "3 0               12    28   0.12  0.28   \n",
       "4 1               22    50   0.22  0.50   \n",
       "5 2               14    64   0.14  0.64   \n",
       "6 3               20    84   0.20  0.84   \n",
       "7 4                6    90   0.06  0.90   \n",
       "8 5                5    95   0.05  0.95   \n",
       "9 12               5   100   0.05  1.00   "
      ]
     },
     "metadata": {},
     "output_type": "display_data"
    }
   ],
   "source": [
    "tabla2=transform(tabla1,Freac=cumsum(Freq),Frela=round(prop.table(Freq),2),Freac=round(cumsum(prop.table(Freq)),2))\n",
    "tabla2"
   ]
  },
  {
   "cell_type": "code",
   "execution_count": 66,
   "metadata": {
    "collapsed": true
   },
   "outputs": [
    {
     "data": {
      "image/png": "[encoded data removed]",
      "text/plain": [
       "Plot with title \"Histogram of DIFERENCIA_PESO\""
      ]
     },
     "metadata": {},
     "output_type": "display_data"
    }
   ],
   "source": [
    "hist(DIFERENCIA_PESO)"
   ]
  },
  {
   "cell_type": "code",
   "execution_count": 67,
   "metadata": {
    "collapsed": true
   },
   "outputs": [
    {
     "data": {
      "image/png": "[encoded data removed]",
      "text/plain": [
       "plot without title"
      ]
     },
     "metadata": {},
     "output_type": "display_data"
    }
   ],
   "source": [
    "plot(tabla2$Freac,type=\"o\",col = \"RED\")"
   ]
  },
  {
   "cell_type": "markdown",
   "metadata": {},
   "source": [
    "## Medidas de Tendencia Central ##"
   ]
  },
  {
   "cell_type": "code",
   "execution_count": 68,
   "metadata": {},
   "outputs": [
    {
     "data": {
      "text/plain": [
       "   Min. 1st Qu.  Median    Mean 3rd Qu.    Max. \n",
       "  -2.00    0.00    1.50    1.93    3.00   12.00 "
      ]
     },
     "metadata": {},
     "output_type": "display_data"
    }
   ],
   "source": [
    "summary(DIFERENCIA_PESO)"
   ]
  },
  {
   "cell_type": "markdown",
   "metadata": {},
   "source": [
    "#### Promedio usual"
   ]
  },
  {
   "cell_type": "code",
   "execution_count": 69,
   "metadata": {},
   "outputs": [
    {
     "data": {
      "text/html": [
       "1.93"
      ],
      "text/latex": [
       "1.93"
      ],
      "text/markdown": [
       "1.93"
      ],
      "text/plain": [
       "[1] 1.93"
      ]
     },
     "metadata": {},
     "output_type": "display_data"
    }
   ],
   "source": [
    "mean(DIFERENCIA_PESO)"
   ]
  },
  {
   "cell_type": "code",
   "execution_count": 70,
   "metadata": {},
   "outputs": [
    {
     "data": {
      "text/html": [
       "1.5"
      ],
      "text/latex": [
       "1.5"
      ],
      "text/markdown": [
       "1.5"
      ],
      "text/plain": [
       "[1] 1.5"
      ]
     },
     "metadata": {},
     "output_type": "display_data"
    }
   ],
   "source": [
    "median(DIFERENCIA_PESO)"
   ]
  },
  {
   "cell_type": "markdown",
   "metadata": {},
   "source": [
    "Promedio Aritmético"
   ]
  },
  {
   "cell_type": "code",
   "execution_count": 71,
   "metadata": {},
   "outputs": [
    {
     "data": {
      "text/html": [
       "1.66"
      ],
      "text/latex": [
       "1.66"
      ],
      "text/markdown": [
       "1.66"
      ],
      "text/plain": [
       "[1] 1.66"
      ]
     },
     "metadata": {},
     "output_type": "display_data"
    }
   ],
   "source": [
    "P_ARIT=sum((TFA$MC)*(TFA$Freq))/sum((TFA$Freq))\n",
    "P_ARIT"
   ]
  },
  {
   "cell_type": "markdown",
   "metadata": {},
   "source": [
    "## Medidas de Variabilidad ##\n",
    "Varianza usual"
   ]
  },
  {
   "cell_type": "code",
   "execution_count": 149,
   "metadata": {
    "collapsed": true
   },
   "outputs": [
    {
     "data": {
      "text/html": [
       "8.7251"
      ],
      "text/latex": [
       "8.7251"
      ],
      "text/markdown": [
       "8.7251"
      ],
      "text/plain": [
       "[1] 8.7251"
      ]
     },
     "metadata": {},
     "output_type": "display_data"
    }
   ],
   "source": [
    "VARU = sum((DIFERENCIA_PESO-mean(DIFERENCIA_PESO))^2)/length(DIFERENCIA_PESO)\n",
    "VARU"
   ]
  },
  {
   "cell_type": "markdown",
   "metadata": {},
   "source": [
    "Desviación estándar usual"
   ]
  },
  {
   "cell_type": "code",
   "execution_count": 151,
   "metadata": {
    "collapsed": true
   },
   "outputs": [
    {
     "data": {
      "text/html": [
       "2.95382802478411"
      ],
      "text/latex": [
       "2.95382802478411"
      ],
      "text/markdown": [
       "2.95382802478411"
      ],
      "text/plain": [
       "[1] 2.953828"
      ]
     },
     "metadata": {},
     "output_type": "display_data"
    }
   ],
   "source": [
    "DESU = sqrt(VARU)\n",
    "DESU"
   ]
  },
  {
   "cell_type": "markdown",
   "metadata": {},
   "source": [
    "Rango"
   ]
  },
  {
   "cell_type": "code",
   "execution_count": 152,
   "metadata": {
    "collapsed": true
   },
   "outputs": [
    {
     "data": {
      "text/html": [
       "14"
      ],
      "text/latex": [
       "14"
      ],
      "text/markdown": [
       "14"
      ],
      "text/plain": [
       "[1] 14"
      ]
     },
     "metadata": {},
     "output_type": "display_data"
    }
   ],
   "source": [
    "RAN=max(DIFERENCIA_PESO)-min(DIFERENCIA_PESO)\n",
    "RAN"
   ]
  },
  {
   "cell_type": "markdown",
   "metadata": {},
   "source": [
    "Rango intercuartílico"
   ]
  },
  {
   "cell_type": "code",
   "execution_count": 153,
   "metadata": {
    "collapsed": true
   },
   "outputs": [
    {
     "data": {
      "text/html": [
       "3"
      ],
      "text/latex": [
       "3"
      ],
      "text/markdown": [
       "3"
      ],
      "text/plain": [
       "[1] 3"
      ]
     },
     "metadata": {},
     "output_type": "display_data"
    }
   ],
   "source": [
    "IQR(DIFERENCIA_PESO)"
   ]
  },
  {
   "cell_type": "markdown",
   "metadata": {},
   "source": [
    "## Medidas de Localización ##"
   ]
  },
  {
   "cell_type": "code",
   "execution_count": 154,
   "metadata": {
    "collapsed": true
   },
   "outputs": [
    {
     "data": {
      "text/html": [
       "<strong>68%:</strong> 3"
      ],
      "text/latex": [
       "\\textbf{68\\textbackslash{}\\%:} 3"
      ],
      "text/markdown": [
       "**68%:** 3"
      ],
      "text/plain": [
       "68% \n",
       "  3 "
      ]
     },
     "metadata": {},
     "output_type": "display_data"
    },
    {
     "data": {
      "text/html": [
       "<strong>79%:</strong> 3"
      ],
      "text/latex": [
       "\\textbf{79\\textbackslash{}\\%:} 3"
      ],
      "text/markdown": [
       "**79%:** 3"
      ],
      "text/plain": [
       "79% \n",
       "  3 "
      ]
     },
     "metadata": {},
     "output_type": "display_data"
    }
   ],
   "source": [
    "PERCENTIL_68=quantile(DIFERENCIA_PESO,0.68)\n",
    "PERCENTIL_68\n",
    "\n",
    "PERCENTIL_79=quantile(DIFERENCIA_PESO,0.79)\n",
    "PERCENTIL_79"
   ]
  },
  {
   "cell_type": "markdown",
   "metadata": {},
   "source": [
    "## Medidas de Simetría y Forma ##"
   ]
  },
  {
   "cell_type": "markdown",
   "metadata": {},
   "source": [
    "#### Asimetría"
   ]
  },
  {
   "cell_type": "code",
   "execution_count": 155,
   "metadata": {
    "collapsed": true
   },
   "outputs": [
    {
     "data": {
      "text/html": [
       "1.73295991804243"
      ],
      "text/latex": [
       "1.73295991804243"
      ],
      "text/markdown": [
       "1.73295991804243"
      ],
      "text/plain": [
       "[1] 1.73296"
      ]
     },
     "metadata": {},
     "output_type": "display_data"
    }
   ],
   "source": [
    "AS=sum((DIFERENCIA_PESO-mean(DIFERENCIA_PESO))^3)/(length(DIFERENCIA_PESO)*(DESU^3))\n",
    "AS"
   ]
  },
  {
   "cell_type": "markdown",
   "metadata": {},
   "source": [
    "#### Curtosis"
   ]
  },
  {
   "cell_type": "code",
   "execution_count": 156,
   "metadata": {
    "collapsed": true
   },
   "outputs": [
    {
     "data": {
      "text/html": [
       "7.22550890563729"
      ],
      "text/latex": [
       "7.22550890563729"
      ],
      "text/markdown": [
       "7.22550890563729"
      ],
      "text/plain": [
       "[1] 7.225509"
      ]
     },
     "metadata": {},
     "output_type": "display_data"
    }
   ],
   "source": [
    "K=sum((DIFERENCIA_PESO-mean(DIFERENCIA_PESO))^4)/(length(DIFERENCIA_PESO)*(DESU^4))\n",
    "K"
   ]
  },
  {
   "cell_type": "markdown",
   "metadata": {},
   "source": [
    "#### Curtosis trasladada a cero"
   ]
  },
  {
   "cell_type": "code",
   "execution_count": 157,
   "metadata": {
    "collapsed": true
   },
   "outputs": [
    {
     "data": {
      "text/html": [
       "4.22550890563729"
      ],
      "text/latex": [
       "4.22550890563729"
      ],
      "text/markdown": [
       "4.22550890563729"
      ],
      "text/plain": [
       "[1] 4.225509"
      ]
     },
     "metadata": {},
     "output_type": "display_data"
    }
   ],
   "source": [
    "KA=K-3\n",
    "KA"
   ]
  },
  {
   "cell_type": "markdown",
   "metadata": {},
   "source": [
    "## Medidas de Atipicidad"
   ]
  },
  {
   "cell_type": "code",
   "execution_count": 158,
   "metadata": {
    "collapsed": true
   },
   "outputs": [
    {
     "data": {
      "image/png": "[encoded data removed]",
      "text/plain": [
       "plot without title"
      ]
     },
     "metadata": {},
     "output_type": "display_data"
    }
   ],
   "source": [
    "boxplot(DIFERENCIA_PESO)"
   ]
  },
  {
   "cell_type": "markdown",
   "metadata": {},
   "source": [
    "Función para el cálculo de la tabla de frecuencias con agrupamiento en intervalos"
   ]
  },
  {
   "cell_type": "code",
   "execution_count": 43,
   "metadata": {},
   "outputs": [],
   "source": [
    "FREC_ACU_INT <- function(y) {\n",
    "  k <- nclass.scott(y)\n",
    "  #k <- (max(DIFERENCIA_PESO)-min(DIFERENCIA_PESO))/2\n",
    "  #k <- nclass.Sturges(y) #cálculo de la cantidad de clases con el método de Sturges\n",
    "  intervalos <- cut(y, breaks = k) # definir los intervalos\n",
    "  tabla2 <- as.data.frame(table(intervalos))\n",
    "  tabla2 <- transform(tabla2, F.Acum = cumsum(Freq), F.R = prop.table(Freq))\n",
    "  tabla2 <- transform(tabla2, F.R.Acum = cumsum(F.R))\n",
    "  tabla2 <- transform(tabla2, FR.Porc = 100*F.R, FRA.Porc = 100*F.R.Acum)\n",
    "  midpoints <- function(x, dp=2){\n",
    "    lower <- as.numeric(gsub(',.*','',gsub('\\\\(|\\\\[|\\\\)|\\\\]','', x)))\n",
    "    upper <- as.numeric(gsub('.*,','',gsub('\\\\(|\\\\[|\\\\)|\\\\]','', x)))\n",
    "    return(round(lower+(upper-lower)/2, dp))\n",
    "  }\n",
    "  tabla2 <- transform( MC = midpoints(intervalos), tabla2)\n",
    "  tabla2\n",
    "}"
   ]
  },
  {
   "cell_type": "code",
   "execution_count": 20,
   "metadata": {},
   "outputs": [
    {
     "data": {
      "text/html": [
       "<table>\n",
       "<thead><tr><th scope=col>intervalos</th><th scope=col>Freq</th><th scope=col>F.Acum</th><th scope=col>F.R</th><th scope=col>F.R.Acum</th><th scope=col>FR.Porc</th><th scope=col>FRA.Porc</th><th scope=col>MC</th></tr></thead>\n",
       "<tbody>\n",
       "\t<tr><td>(-2.01,0]</td><td>28       </td><td> 28      </td><td>0.28     </td><td>0.28     </td><td>28       </td><td> 28      </td><td>-1       </td></tr>\n",
       "\t<tr><td>(0,2]    </td><td>36       </td><td> 64      </td><td>0.36     </td><td>0.64     </td><td>36       </td><td> 64      </td><td> 1       </td></tr>\n",
       "\t<tr><td>(2,4]    </td><td>26       </td><td> 90      </td><td>0.26     </td><td>0.90     </td><td>26       </td><td> 90      </td><td> 3       </td></tr>\n",
       "\t<tr><td>(4,6]    </td><td> 5       </td><td> 95      </td><td>0.05     </td><td>0.95     </td><td> 5       </td><td> 95      </td><td> 5       </td></tr>\n",
       "\t<tr><td>(6,8]    </td><td> 0       </td><td> 95      </td><td>0.00     </td><td>0.95     </td><td> 0       </td><td> 95      </td><td> 7       </td></tr>\n",
       "\t<tr><td>(8,10]   </td><td> 0       </td><td> 95      </td><td>0.00     </td><td>0.95     </td><td> 0       </td><td> 95      </td><td> 9       </td></tr>\n",
       "\t<tr><td>(10,12]  </td><td> 5       </td><td>100      </td><td>0.05     </td><td>1.00     </td><td> 5       </td><td>100      </td><td>11       </td></tr>\n",
       "</tbody>\n",
       "</table>\n"
      ],
      "text/latex": [
       "\\begin{tabular}{r|llllllll}\n",
       " intervalos & Freq & F.Acum & F.R & F.R.Acum & FR.Porc & FRA.Porc & MC\\\\\n",
       "\\hline\n",
       "\t (-2.01,0{]} & 28          &  28         & 0.28        & 0.28        & 28          &  28         & -1         \\\\\n",
       "\t (0,2{]}     & 36          &  64         & 0.36        & 0.64        & 36          &  64         &  1         \\\\\n",
       "\t (2,4{]}     & 26          &  90         & 0.26        & 0.90        & 26          &  90         &  3         \\\\\n",
       "\t (4,6{]}     &  5          &  95         & 0.05        & 0.95        &  5          &  95         &  5         \\\\\n",
       "\t (6,8{]}     &  0          &  95         & 0.00        & 0.95        &  0          &  95         &  7         \\\\\n",
       "\t (8,10{]}    &  0          &  95         & 0.00        & 0.95        &  0          &  95         &  9         \\\\\n",
       "\t (10,12{]}   &  5          & 100         & 0.05        & 1.00        &  5          & 100         & 11         \\\\\n",
       "\\end{tabular}\n"
      ],
      "text/markdown": [
       "\n",
       "intervalos | Freq | F.Acum | F.R | F.R.Acum | FR.Porc | FRA.Porc | MC | \n",
       "|---|---|---|---|---|---|---|\n",
       "| (-2.01,0] | 28        |  28       | 0.28      | 0.28      | 28        |  28       | -1        | \n",
       "| (0,2]     | 36        |  64       | 0.36      | 0.64      | 36        |  64       |  1        | \n",
       "| (2,4]     | 26        |  90       | 0.26      | 0.90      | 26        |  90       |  3        | \n",
       "| (4,6]     |  5        |  95       | 0.05      | 0.95      |  5        |  95       |  5        | \n",
       "| (6,8]     |  0        |  95       | 0.00      | 0.95      |  0        |  95       |  7        | \n",
       "| (8,10]    |  0        |  95       | 0.00      | 0.95      |  0        |  95       |  9        | \n",
       "| (10,12]   |  5        | 100       | 0.05      | 1.00      |  5        | 100       | 11        | \n",
       "\n",
       "\n"
      ],
      "text/plain": [
       "  intervalos Freq F.Acum F.R  F.R.Acum FR.Porc FRA.Porc MC\n",
       "1 (-2.01,0]  28    28    0.28 0.28     28       28      -1\n",
       "2 (0,2]      36    64    0.36 0.64     36       64       1\n",
       "3 (2,4]      26    90    0.26 0.90     26       90       3\n",
       "4 (4,6]       5    95    0.05 0.95      5       95       5\n",
       "5 (6,8]       0    95    0.00 0.95      0       95       7\n",
       "6 (8,10]      0    95    0.00 0.95      0       95       9\n",
       "7 (10,12]     5   100    0.05 1.00      5      100      11"
      ]
     },
     "metadata": {},
     "output_type": "display_data"
    }
   ],
   "source": [
    "TFA=FREC_ACU_INT(DIFERENCIA_PESO)\n",
    "TFA"
   ]
  },
  {
   "cell_type": "markdown",
   "metadata": {},
   "source": [
    "La función de probabilidad se define a continuación:"
   ]
  },
  {
   "cell_type": "markdown",
   "metadata": {},
   "source": [
    "\\begin{equation}\n",
    " \\label{eq:aqui-le-mostramos-como-hacerle-la-llave-grande}\n",
    " p(x) = \\left\\{\n",
    "       \\begin{array}{ll}\n",
    "     0.28 & \\mathrm{si\\ } -2.01 < x \\le 0 \\\\\n",
    "     0.36 & \\mathrm{si\\ } 0 < x \\le 2 \\\\\n",
    "     0.26 & \\mathrm{si\\ } 2 < x \\le 4 \\\\\n",
    "     0.05 & \\mathrm{si\\ } 4 < x \\le 6 \\\\\n",
    "     0.05 & \\mathrm{si\\ } 10 < x \\le 12 \\\\\n",
    "     0 & \\mathrm{en\\ otro\\ caso\\ } \\\\\n",
    "       \\end{array}\n",
    "     \\right.\n",
    "\\end{equation}"
   ]
  },
  {
   "cell_type": "code",
   "execution_count": 57,
   "metadata": {
    "collapsed": true
   },
   "outputs": [
    {
     "data": {
      "image/png": "[encoded data removed]",
      "text/plain": [
       "plot without title"
      ]
     },
     "metadata": {},
     "output_type": "display_data"
    }
   ],
   "source": [
    "myfunction = function(x){\n",
    "    (x< -2)*(0)+\n",
    "    (-2.01<x & x<=0)*0.28+\n",
    "    (0<x & x<=2)*0.36+\n",
    "    (2<x & x<=4)*0.26+\n",
    "    (4<x & x<=6)*0.05+\n",
    "    (6<x & x<=10)*0.0+\n",
    "    (10<x & x<=12)*0.05+\n",
    "    (12>x)*0.0\n",
    "}\n",
    "g=Vectorize(myfunction)\n",
    "plot(g,-4,14)"
   ]
  },
  {
   "cell_type": "code",
   "execution_count": 56,
   "metadata": {},
   "outputs": [
    {
     "data": {
      "image/png": "[encoded data removed]",
      "text/plain": [
       "Plot with title \"Histogram of DIFERENCIA_PESO\""
      ]
     },
     "metadata": {},
     "output_type": "display_data"
    }
   ],
   "source": [
    "hist(DIFERENCIA_PESO)"
   ]
  },
  {
   "cell_type": "markdown",
   "metadata": {},
   "source": [
    "Punto 3"
   ]
  },
  {
   "cell_type": "markdown",
   "metadata": {},
   "source": [
    "\\begin{equation}\n",
    "P[1 \\le x \\le 4] = P(1)+P(4) = 0.36 + 0.26 = 0.62\n",
    "\\end{equation}\n",
    "\n",
    "\\begin{equation}\n",
    "P[x \\le 6] = P(1)+P(4)\n",
    "\\end{equation}\n",
    "\n",
    "\\begin{equation}\n",
    "P[x > 5\\ y\\ x < 2] = P(1)+P(4)\n",
    "\\end{equation}\n",
    "\n",
    "\\begin{equation}\n",
    "P[(3 \\le x \\le 5)\\ / (x > 4)] = P(1)+P(4)\n",
    "\\end{equation}"
   ]
  },
  {
   "cell_type": "markdown",
   "metadata": {},
   "source": []
  },
  {
   "cell_type": "markdown",
   "metadata": {},
   "source": []
  },
  {
   "cell_type": "markdown",
   "metadata": {},
   "source": []
  },
  {
   "cell_type": "code",
   "execution_count": null,
   "metadata": {},
   "outputs": [],
   "source": []
  }
 ],
 "metadata": {
  "kernelspec": {
   "display_name": "R",
   "language": "R",
   "name": "ir"
  },
  "language_info": {
   "codemirror_mode": "r",
   "file_extension": ".r",
   "mimetype": "text/x-r-source",
   "name": "R",
   "pygments_lexer": "r",
   "version": "3.5.1"
  }
 },
 "nbformat": 4,
 "nbformat_minor": 2
}
