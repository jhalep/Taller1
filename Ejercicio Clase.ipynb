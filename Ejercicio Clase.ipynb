{
 "cells": [
  {
   "cell_type": "code",
   "execution_count": 3,
   "metadata": {
    "collapsed": true
   },
   "outputs": [],
   "source": [
    "library(readxl)\n",
    "DATOS <- read_excel(\"C:/Users/JHONALEJANDROPENATEL/Documents/1Maestria/Herramientas/DATOS.xlsx\")"
   ]
  },
  {
   "cell_type": "code",
   "execution_count": 44,
   "metadata": {
    "collapsed": true
   },
   "outputs": [
    {
     "data": {
      "text/html": [
       "<table>\n",
       "<thead><tr><th scope=col>EDAD</th><th scope=col>Freq</th><th scope=col>Freac</th><th scope=col>Frela</th><th scope=col>Freac.1</th></tr></thead>\n",
       "<tbody>\n",
       "\t<tr><td>19  </td><td>5   </td><td>  5 </td><td>0.05</td><td>0.05</td></tr>\n",
       "\t<tr><td>20  </td><td>2   </td><td>  7 </td><td>0.02</td><td>0.07</td></tr>\n",
       "\t<tr><td>22  </td><td>4   </td><td> 11 </td><td>0.04</td><td>0.11</td></tr>\n",
       "\t<tr><td>23  </td><td>2   </td><td> 13 </td><td>0.02</td><td>0.13</td></tr>\n",
       "\t<tr><td>24  </td><td>2   </td><td> 15 </td><td>0.02</td><td>0.15</td></tr>\n",
       "\t<tr><td>25  </td><td>2   </td><td> 17 </td><td>0.02</td><td>0.17</td></tr>\n",
       "\t<tr><td>27  </td><td>2   </td><td> 19 </td><td>0.02</td><td>0.19</td></tr>\n",
       "\t<tr><td>28  </td><td>2   </td><td> 21 </td><td>0.02</td><td>0.21</td></tr>\n",
       "\t<tr><td>29  </td><td>2   </td><td> 23 </td><td>0.02</td><td>0.23</td></tr>\n",
       "\t<tr><td>30  </td><td>2   </td><td> 25 </td><td>0.02</td><td>0.25</td></tr>\n",
       "\t<tr><td>32  </td><td>9   </td><td> 34 </td><td>0.09</td><td>0.34</td></tr>\n",
       "\t<tr><td>33  </td><td>5   </td><td> 39 </td><td>0.05</td><td>0.39</td></tr>\n",
       "\t<tr><td>35  </td><td>5   </td><td> 44 </td><td>0.05</td><td>0.44</td></tr>\n",
       "\t<tr><td>37  </td><td>2   </td><td> 46 </td><td>0.02</td><td>0.46</td></tr>\n",
       "\t<tr><td>39  </td><td>6   </td><td> 52 </td><td>0.06</td><td>0.52</td></tr>\n",
       "\t<tr><td>40  </td><td>8   </td><td> 60 </td><td>0.08</td><td>0.60</td></tr>\n",
       "\t<tr><td>42  </td><td>3   </td><td> 63 </td><td>0.03</td><td>0.63</td></tr>\n",
       "\t<tr><td>43  </td><td>3   </td><td> 66 </td><td>0.03</td><td>0.66</td></tr>\n",
       "\t<tr><td>44  </td><td>2   </td><td> 68 </td><td>0.02</td><td>0.68</td></tr>\n",
       "\t<tr><td>45  </td><td>6   </td><td> 74 </td><td>0.06</td><td>0.74</td></tr>\n",
       "\t<tr><td>48  </td><td>6   </td><td> 80 </td><td>0.06</td><td>0.80</td></tr>\n",
       "\t<tr><td>49  </td><td>6   </td><td> 86 </td><td>0.06</td><td>0.86</td></tr>\n",
       "\t<tr><td>50  </td><td>2   </td><td> 88 </td><td>0.02</td><td>0.88</td></tr>\n",
       "\t<tr><td>58  </td><td>6   </td><td> 94 </td><td>0.06</td><td>0.94</td></tr>\n",
       "\t<tr><td>60  </td><td>6   </td><td>100 </td><td>0.06</td><td>1.00</td></tr>\n",
       "</tbody>\n",
       "</table>\n"
      ],
      "text/latex": [
       "\\begin{tabular}{r|lllll}\n",
       " EDAD & Freq & Freac & Frela & Freac.1\\\\\n",
       "\\hline\n",
       "\t 19   & 5    &   5  & 0.05 & 0.05\\\\\n",
       "\t 20   & 2    &   7  & 0.02 & 0.07\\\\\n",
       "\t 22   & 4    &  11  & 0.04 & 0.11\\\\\n",
       "\t 23   & 2    &  13  & 0.02 & 0.13\\\\\n",
       "\t 24   & 2    &  15  & 0.02 & 0.15\\\\\n",
       "\t 25   & 2    &  17  & 0.02 & 0.17\\\\\n",
       "\t 27   & 2    &  19  & 0.02 & 0.19\\\\\n",
       "\t 28   & 2    &  21  & 0.02 & 0.21\\\\\n",
       "\t 29   & 2    &  23  & 0.02 & 0.23\\\\\n",
       "\t 30   & 2    &  25  & 0.02 & 0.25\\\\\n",
       "\t 32   & 9    &  34  & 0.09 & 0.34\\\\\n",
       "\t 33   & 5    &  39  & 0.05 & 0.39\\\\\n",
       "\t 35   & 5    &  44  & 0.05 & 0.44\\\\\n",
       "\t 37   & 2    &  46  & 0.02 & 0.46\\\\\n",
       "\t 39   & 6    &  52  & 0.06 & 0.52\\\\\n",
       "\t 40   & 8    &  60  & 0.08 & 0.60\\\\\n",
       "\t 42   & 3    &  63  & 0.03 & 0.63\\\\\n",
       "\t 43   & 3    &  66  & 0.03 & 0.66\\\\\n",
       "\t 44   & 2    &  68  & 0.02 & 0.68\\\\\n",
       "\t 45   & 6    &  74  & 0.06 & 0.74\\\\\n",
       "\t 48   & 6    &  80  & 0.06 & 0.80\\\\\n",
       "\t 49   & 6    &  86  & 0.06 & 0.86\\\\\n",
       "\t 50   & 2    &  88  & 0.02 & 0.88\\\\\n",
       "\t 58   & 6    &  94  & 0.06 & 0.94\\\\\n",
       "\t 60   & 6    & 100  & 0.06 & 1.00\\\\\n",
       "\\end{tabular}\n"
      ],
      "text/markdown": [
       "\n",
       "EDAD | Freq | Freac | Frela | Freac.1 | \n",
       "|---|---|---|---|---|---|---|---|---|---|---|---|---|---|---|---|---|---|---|---|---|---|---|---|---|\n",
       "| 19   | 5    |   5  | 0.05 | 0.05 | \n",
       "| 20   | 2    |   7  | 0.02 | 0.07 | \n",
       "| 22   | 4    |  11  | 0.04 | 0.11 | \n",
       "| 23   | 2    |  13  | 0.02 | 0.13 | \n",
       "| 24   | 2    |  15  | 0.02 | 0.15 | \n",
       "| 25   | 2    |  17  | 0.02 | 0.17 | \n",
       "| 27   | 2    |  19  | 0.02 | 0.19 | \n",
       "| 28   | 2    |  21  | 0.02 | 0.21 | \n",
       "| 29   | 2    |  23  | 0.02 | 0.23 | \n",
       "| 30   | 2    |  25  | 0.02 | 0.25 | \n",
       "| 32   | 9    |  34  | 0.09 | 0.34 | \n",
       "| 33   | 5    |  39  | 0.05 | 0.39 | \n",
       "| 35   | 5    |  44  | 0.05 | 0.44 | \n",
       "| 37   | 2    |  46  | 0.02 | 0.46 | \n",
       "| 39   | 6    |  52  | 0.06 | 0.52 | \n",
       "| 40   | 8    |  60  | 0.08 | 0.60 | \n",
       "| 42   | 3    |  63  | 0.03 | 0.63 | \n",
       "| 43   | 3    |  66  | 0.03 | 0.66 | \n",
       "| 44   | 2    |  68  | 0.02 | 0.68 | \n",
       "| 45   | 6    |  74  | 0.06 | 0.74 | \n",
       "| 48   | 6    |  80  | 0.06 | 0.80 | \n",
       "| 49   | 6    |  86  | 0.06 | 0.86 | \n",
       "| 50   | 2    |  88  | 0.02 | 0.88 | \n",
       "| 58   | 6    |  94  | 0.06 | 0.94 | \n",
       "| 60   | 6    | 100  | 0.06 | 1.00 | \n",
       "\n",
       "\n"
      ],
      "text/plain": [
       "   EDAD Freq Freac Frela Freac.1\n",
       "1  19   5      5   0.05  0.05   \n",
       "2  20   2      7   0.02  0.07   \n",
       "3  22   4     11   0.04  0.11   \n",
       "4  23   2     13   0.02  0.13   \n",
       "5  24   2     15   0.02  0.15   \n",
       "6  25   2     17   0.02  0.17   \n",
       "7  27   2     19   0.02  0.19   \n",
       "8  28   2     21   0.02  0.21   \n",
       "9  29   2     23   0.02  0.23   \n",
       "10 30   2     25   0.02  0.25   \n",
       "11 32   9     34   0.09  0.34   \n",
       "12 33   5     39   0.05  0.39   \n",
       "13 35   5     44   0.05  0.44   \n",
       "14 37   2     46   0.02  0.46   \n",
       "15 39   6     52   0.06  0.52   \n",
       "16 40   8     60   0.08  0.60   \n",
       "17 42   3     63   0.03  0.63   \n",
       "18 43   3     66   0.03  0.66   \n",
       "19 44   2     68   0.02  0.68   \n",
       "20 45   6     74   0.06  0.74   \n",
       "21 48   6     80   0.06  0.80   \n",
       "22 49   6     86   0.06  0.86   \n",
       "23 50   2     88   0.02  0.88   \n",
       "24 58   6     94   0.06  0.94   \n",
       "25 60   6    100   0.06  1.00   "
      ]
     },
     "metadata": {},
     "output_type": "display_data"
    }
   ],
   "source": [
    "EDAD=DATOS$EDAD\n",
    "tabla1=data.frame(table(EDAD))\n",
    "tabla2=transform(tabla1,Freac=cumsum(Freq),Frela=round(prop.table(Freq),2),Freac=round(cumsum(prop.table(Freq)),2))\n",
    "tabla2"
   ]
  },
  {
   "cell_type": "markdown",
   "metadata": {},
   "source": [
    "Se define la función de frecuencia acumulada"
   ]
  },
  {
   "cell_type": "code",
   "execution_count": 10,
   "metadata": {
    "collapsed": true
   },
   "outputs": [],
   "source": [
    "FREC_ACU_INT <- function(y) {\n",
    "  k <- nclass.Sturges(y)\n",
    "  intervalos <- cut(y, breaks = k)\n",
    "  tabla2 <- as.data.frame(table(intervalos))\n",
    "  tabla2 <- transform(tabla2, F.Acum = cumsum(Freq), F.R = prop.table(Freq))\n",
    "  tabla2 <- transform(tabla2, F.R.Acum = cumsum(F.R))\n",
    "  tabla2 <- transform(tabla2, FR.Porc = 100*F.R, FRA.Porc = 100*F.R.Acum)\n",
    "  midpoints <- function(x, dp=2){\n",
    "    lower <- as.numeric(gsub(',.*','',gsub('\\\\(|\\\\[|\\\\)|\\\\]','', x)))\n",
    "    upper <- as.numeric(gsub('.*,','',gsub('\\\\(|\\\\[|\\\\)|\\\\]','', x)))\n",
    "    return(round(lower+(upper-lower)/2, dp))\n",
    "  }\n",
    "  tabla2 <- transform( MC = midpoints(intervalos), tabla2)\n",
    "  tabla2\n",
    "}"
   ]
  },
  {
   "cell_type": "code",
   "execution_count": 12,
   "metadata": {},
   "outputs": [
    {
     "data": {
      "text/html": [
       "<table>\n",
       "<thead><tr><th scope=col>intervalos</th><th scope=col>Freq</th><th scope=col>F.Acum</th><th scope=col>F.R</th><th scope=col>F.R.Acum</th><th scope=col>FR.Porc</th><th scope=col>FRA.Porc</th><th scope=col>MC</th></tr></thead>\n",
       "<tbody>\n",
       "\t<tr><td>(19,24.1]  </td><td>15         </td><td> 15        </td><td>0.15       </td><td>0.15       </td><td>15         </td><td> 15        </td><td>21.55      </td></tr>\n",
       "\t<tr><td>(24.1,29.2]</td><td> 8         </td><td> 23        </td><td>0.08       </td><td>0.23       </td><td> 8         </td><td> 23        </td><td>26.65      </td></tr>\n",
       "\t<tr><td>(29.2,34.4]</td><td>16         </td><td> 39        </td><td>0.16       </td><td>0.39       </td><td>16         </td><td> 39        </td><td>31.80      </td></tr>\n",
       "\t<tr><td>(34.4,39.5]</td><td>13         </td><td> 52        </td><td>0.13       </td><td>0.52       </td><td>13         </td><td> 52        </td><td>36.95      </td></tr>\n",
       "\t<tr><td>(39.5,44.6]</td><td>16         </td><td> 68        </td><td>0.16       </td><td>0.68       </td><td>16         </td><td> 68        </td><td>42.05      </td></tr>\n",
       "\t<tr><td>(44.6,49.8]</td><td>18         </td><td> 86        </td><td>0.18       </td><td>0.86       </td><td>18         </td><td> 86        </td><td>47.20      </td></tr>\n",
       "\t<tr><td>(49.8,54.9]</td><td> 2         </td><td> 88        </td><td>0.02       </td><td>0.88       </td><td> 2         </td><td> 88        </td><td>52.35      </td></tr>\n",
       "\t<tr><td>(54.9,60]  </td><td>12         </td><td>100        </td><td>0.12       </td><td>1.00       </td><td>12         </td><td>100        </td><td>57.45      </td></tr>\n",
       "</tbody>\n",
       "</table>\n"
      ],
      "text/latex": [
       "\\begin{tabular}{r|llllllll}\n",
       " intervalos & Freq & F.Acum & F.R & F.R.Acum & FR.Porc & FRA.Porc & MC\\\\\n",
       "\\hline\n",
       "\t (19,24.1{]}   & 15            &  15           & 0.15          & 0.15          & 15            &  15           & 21.55        \\\\\n",
       "\t (24.1,29.2{]} &  8            &  23           & 0.08          & 0.23          &  8            &  23           & 26.65        \\\\\n",
       "\t (29.2,34.4{]} & 16            &  39           & 0.16          & 0.39          & 16            &  39           & 31.80        \\\\\n",
       "\t (34.4,39.5{]} & 13            &  52           & 0.13          & 0.52          & 13            &  52           & 36.95        \\\\\n",
       "\t (39.5,44.6{]} & 16            &  68           & 0.16          & 0.68          & 16            &  68           & 42.05        \\\\\n",
       "\t (44.6,49.8{]} & 18            &  86           & 0.18          & 0.86          & 18            &  86           & 47.20        \\\\\n",
       "\t (49.8,54.9{]} &  2            &  88           & 0.02          & 0.88          &  2            &  88           & 52.35        \\\\\n",
       "\t (54.9,60{]}   & 12            & 100           & 0.12          & 1.00          & 12            & 100           & 57.45        \\\\\n",
       "\\end{tabular}\n"
      ],
      "text/markdown": [
       "\n",
       "intervalos | Freq | F.Acum | F.R | F.R.Acum | FR.Porc | FRA.Porc | MC | \n",
       "|---|---|---|---|---|---|---|---|\n",
       "| (19,24.1]   | 15          |  15         | 0.15        | 0.15        | 15          |  15         | 21.55       | \n",
       "| (24.1,29.2] |  8          |  23         | 0.08        | 0.23        |  8          |  23         | 26.65       | \n",
       "| (29.2,34.4] | 16          |  39         | 0.16        | 0.39        | 16          |  39         | 31.80       | \n",
       "| (34.4,39.5] | 13          |  52         | 0.13        | 0.52        | 13          |  52         | 36.95       | \n",
       "| (39.5,44.6] | 16          |  68         | 0.16        | 0.68        | 16          |  68         | 42.05       | \n",
       "| (44.6,49.8] | 18          |  86         | 0.18        | 0.86        | 18          |  86         | 47.20       | \n",
       "| (49.8,54.9] |  2          |  88         | 0.02        | 0.88        |  2          |  88         | 52.35       | \n",
       "| (54.9,60]   | 12          | 100         | 0.12        | 1.00        | 12          | 100         | 57.45       | \n",
       "\n",
       "\n"
      ],
      "text/plain": [
       "  intervalos  Freq F.Acum F.R  F.R.Acum FR.Porc FRA.Porc MC   \n",
       "1 (19,24.1]   15    15    0.15 0.15     15       15      21.55\n",
       "2 (24.1,29.2]  8    23    0.08 0.23      8       23      26.65\n",
       "3 (29.2,34.4] 16    39    0.16 0.39     16       39      31.80\n",
       "4 (34.4,39.5] 13    52    0.13 0.52     13       52      36.95\n",
       "5 (39.5,44.6] 16    68    0.16 0.68     16       68      42.05\n",
       "6 (44.6,49.8] 18    86    0.18 0.86     18       86      47.20\n",
       "7 (49.8,54.9]  2    88    0.02 0.88      2       88      52.35\n",
       "8 (54.9,60]   12   100    0.12 1.00     12      100      57.45"
      ]
     },
     "metadata": {},
     "output_type": "display_data"
    }
   ],
   "source": [
    "TFA=FREC_ACU_INT(EDAD)\n",
    "TFA"
   ]
  },
  {
   "cell_type": "markdown",
   "metadata": {},
   "source": [
    "Histograma de Edad"
   ]
  },
  {
   "cell_type": "code",
   "execution_count": 13,
   "metadata": {
    "collapsed": true
   },
   "outputs": [
    {
     "data": {
      "image/png": "[encoded data removed]",
      "text/plain": [
       "Plot with title \"Histogram of EDAD\""
      ]
     },
     "metadata": {},
     "output_type": "display_data"
    }
   ],
   "source": [
    "hist(EDAD)"
   ]
  },
  {
   "cell_type": "markdown",
   "metadata": {},
   "source": [
    "Ojiva de Edad"
   ]
  },
  {
   "cell_type": "code",
   "execution_count": 14,
   "metadata": {
    "collapsed": true
   },
   "outputs": [
    {
     "data": {
      "image/png": "[encoded data removed]",
      "text/plain": [
       "plot without title"
      ]
     },
     "metadata": {},
     "output_type": "display_data"
    }
   ],
   "source": [
    "plot(tabla2$Freac,type=\"o\",col = \"RED\")"
   ]
  },
  {
   "cell_type": "markdown",
   "metadata": {},
   "source": [
    "Barras"
   ]
  },
  {
   "cell_type": "code",
   "execution_count": 15,
   "metadata": {
    "collapsed": true
   },
   "outputs": [
    {
     "data": {
      "image/png": "[encoded data removed]",
      "text/plain": [
       "plot without title"
      ]
     },
     "metadata": {},
     "output_type": "display_data"
    }
   ],
   "source": [
    "barplot(EDAD)"
   ]
  },
  {
   "cell_type": "markdown",
   "metadata": {},
   "source": [
    "Torta"
   ]
  },
  {
   "cell_type": "code",
   "execution_count": 18,
   "metadata": {
    "collapsed": true
   },
   "outputs": [
    {
     "data": {
      "image/png": "[encoded data removed]",
      "text/plain": [
       "plot without title"
      ]
     },
     "metadata": {},
     "output_type": "display_data"
    }
   ],
   "source": [
    "pie(table(EDAD))"
   ]
  },
  {
   "cell_type": "markdown",
   "metadata": {},
   "source": [
    "## Medidas de Tendencia Central ##\n",
    "\n",
    "Resumen de las medidas básicas de tendencia"
   ]
  },
  {
   "cell_type": "code",
   "execution_count": 19,
   "metadata": {
    "collapsed": true
   },
   "outputs": [
    {
     "data": {
      "text/plain": [
       "   Min. 1st Qu.  Median    Mean 3rd Qu.    Max. \n",
       "  19.00   31.50   39.00   38.54   48.00   60.00 "
      ]
     },
     "metadata": {},
     "output_type": "display_data"
    }
   ],
   "source": [
    "summary(EDAD)"
   ]
  },
  {
   "cell_type": "markdown",
   "metadata": {},
   "source": [
    "Promedio Usual"
   ]
  },
  {
   "cell_type": "code",
   "execution_count": 23,
   "metadata": {
    "collapsed": true
   },
   "outputs": [
    {
     "data": {
      "text/html": [
       "38.54"
      ],
      "text/latex": [
       "38.54"
      ],
      "text/markdown": [
       "38.54"
      ],
      "text/plain": [
       "[1] 38.54"
      ]
     },
     "metadata": {},
     "output_type": "display_data"
    }
   ],
   "source": [
    "mean(EDAD)"
   ]
  },
  {
   "cell_type": "markdown",
   "metadata": {},
   "source": [
    "mediana"
   ]
  },
  {
   "cell_type": "code",
   "execution_count": 25,
   "metadata": {
    "collapsed": true
   },
   "outputs": [
    {
     "data": {
      "text/html": [
       "39"
      ],
      "text/latex": [
       "39"
      ],
      "text/markdown": [
       "39"
      ],
      "text/plain": [
       "[1] 39"
      ]
     },
     "metadata": {},
     "output_type": "display_data"
    }
   ],
   "source": [
    "median(EDAD)"
   ]
  },
  {
   "cell_type": "markdown",
   "metadata": {},
   "source": [
    "Calcular el promedio aritmetico"
   ]
  },
  {
   "cell_type": "code",
   "execution_count": 26,
   "metadata": {
    "collapsed": true
   },
   "outputs": [
    {
     "data": {
      "text/html": [
       "38.421"
      ],
      "text/latex": [
       "38.421"
      ],
      "text/markdown": [
       "38.421"
      ],
      "text/plain": [
       "[1] 38.421"
      ]
     },
     "metadata": {},
     "output_type": "display_data"
    }
   ],
   "source": [
    "P_ARIT=sum((TFA$MC)*(TFA$Freq))/sum((TFA$Freq))\n",
    "P_ARIT"
   ]
  },
  {
   "cell_type": "markdown",
   "metadata": {},
   "source": [
    "## Medidas de Variabilidad ##\n",
    "\n",
    "Varianza Usual"
   ]
  },
  {
   "cell_type": "code",
   "execution_count": 27,
   "metadata": {
    "collapsed": true
   },
   "outputs": [
    {
     "data": {
      "text/html": [
       "133.0084"
      ],
      "text/latex": [
       "133.0084"
      ],
      "text/markdown": [
       "133.0084"
      ],
      "text/plain": [
       "[1] 133.0084"
      ]
     },
     "metadata": {},
     "output_type": "display_data"
    }
   ],
   "source": [
    "VARU = sum((EDAD-mean(EDAD))^2)/length(EDAD)\n",
    "VARU"
   ]
  },
  {
   "cell_type": "code",
   "execution_count": 28,
   "metadata": {
    "collapsed": true
   },
   "outputs": [
    {
     "data": {
      "text/html": [
       "11.5329267751079"
      ],
      "text/latex": [
       "11.5329267751079"
      ],
      "text/markdown": [
       "11.5329267751079"
      ],
      "text/plain": [
       "[1] 11.53293"
      ]
     },
     "metadata": {},
     "output_type": "display_data"
    }
   ],
   "source": [
    "# Calcular la desviacion Usual\n",
    "DESU=sqrt(VARU)\n",
    "DESU\n"
   ]
  },
  {
   "cell_type": "code",
   "execution_count": 29,
   "metadata": {
    "collapsed": true
   },
   "outputs": [
    {
     "data": {
      "text/html": [
       "0.299245635057288"
      ],
      "text/latex": [
       "0.299245635057288"
      ],
      "text/markdown": [
       "0.299245635057288"
      ],
      "text/plain": [
       "[1] 0.2992456"
      ]
     },
     "metadata": {},
     "output_type": "display_data"
    },
    {
     "data": {
      "text/html": [
       "41"
      ],
      "text/latex": [
       "41"
      ],
      "text/markdown": [
       "41"
      ],
      "text/plain": [
       "[1] 41"
      ]
     },
     "metadata": {},
     "output_type": "display_data"
    },
    {
     "data": {
      "text/html": [
       "<strong>75%:</strong> 16.5"
      ],
      "text/latex": [
       "\\textbf{75\\textbackslash{}\\%:} 16.5"
      ],
      "text/markdown": [
       "**75%:** 16.5"
      ],
      "text/plain": [
       " 75% \n",
       "16.5 "
      ]
     },
     "metadata": {},
     "output_type": "display_data"
    },
    {
     "data": {
      "text/html": [
       "16.5"
      ],
      "text/latex": [
       "16.5"
      ],
      "text/markdown": [
       "16.5"
      ],
      "text/plain": [
       "[1] 16.5"
      ]
     },
     "metadata": {},
     "output_type": "display_data"
    }
   ],
   "source": [
    "# Coeficiente de Variabilidad\n",
    "CV=DESU/mean(EDAD)\n",
    "CV\n",
    "\n",
    "# calcula el rango\n",
    "RAN=max(EDAD)-min(EDAD)\n",
    "RAN\n",
    "\n",
    "# Rango intercuartilico\n",
    "IQR=quantile(EDAD,0.75)-quantile(EDAD,0.25)\n",
    "IQR\n",
    "IQR(EDAD)"
   ]
  },
  {
   "cell_type": "markdown",
   "metadata": {},
   "source": [
    "## Medidas de Localización ##"
   ]
  },
  {
   "cell_type": "code",
   "execution_count": 33,
   "metadata": {
    "collapsed": true
   },
   "outputs": [
    {
     "data": {
      "text/html": [
       "<strong>68%:</strong> 44.32"
      ],
      "text/latex": [
       "\\textbf{68\\textbackslash{}\\%:} 44.32"
      ],
      "text/markdown": [
       "**68%:** 44.32"
      ],
      "text/plain": [
       "  68% \n",
       "44.32 "
      ]
     },
     "metadata": {},
     "output_type": "display_data"
    },
    {
     "data": {
      "text/html": [
       "<strong>79%:</strong> 48"
      ],
      "text/latex": [
       "\\textbf{79\\textbackslash{}\\%:} 48"
      ],
      "text/markdown": [
       "**79%:** 48"
      ],
      "text/plain": [
       "79% \n",
       " 48 "
      ]
     },
     "metadata": {},
     "output_type": "display_data"
    }
   ],
   "source": [
    "PERCENTIL_68=quantile(EDAD,0.68)\n",
    "PERCENTIL_68\n",
    "\n",
    "PERCENTIL_79=quantile(EDAD,0.79)\n",
    "PERCENTIL_79"
   ]
  },
  {
   "cell_type": "markdown",
   "metadata": {},
   "source": [
    "## Medidas de Simetría y Forma ##"
   ]
  },
  {
   "cell_type": "code",
   "execution_count": 34,
   "metadata": {
    "collapsed": true
   },
   "outputs": [
    {
     "data": {
      "text/html": [
       "0.143867249678733"
      ],
      "text/latex": [
       "0.143867249678733"
      ],
      "text/markdown": [
       "0.143867249678733"
      ],
      "text/plain": [
       "[1] 0.1438672"
      ]
     },
     "metadata": {},
     "output_type": "display_data"
    },
    {
     "data": {
      "text/html": [
       "2.23182703581398"
      ],
      "text/latex": [
       "2.23182703581398"
      ],
      "text/markdown": [
       "2.23182703581398"
      ],
      "text/plain": [
       "[1] 2.231827"
      ]
     },
     "metadata": {},
     "output_type": "display_data"
    },
    {
     "data": {
      "text/html": [
       "-0.768172964186022"
      ],
      "text/latex": [
       "-0.768172964186022"
      ],
      "text/markdown": [
       "-0.768172964186022"
      ],
      "text/plain": [
       "[1] -0.768173"
      ]
     },
     "metadata": {},
     "output_type": "display_data"
    }
   ],
   "source": [
    "# Calcular la asimetria\n",
    "AS=sum((EDAD-mean(EDAD))^3)/(length(EDAD)*(DESU^3))\n",
    "AS\n",
    "\n",
    "# Calcular Curtosis\n",
    "K=sum((EDAD-mean(EDAD))^4)/(length(EDAD)*(DESU^4))\n",
    "K\n",
    "\n",
    "# Calcular la curtosis trasladada a cero\n",
    "KA=K-3\n",
    "KA"
   ]
  },
  {
   "cell_type": "markdown",
   "metadata": {},
   "source": [
    "## Medidas de atipicidad ##\n",
    "Dibujar el boxplot"
   ]
  },
  {
   "cell_type": "code",
   "execution_count": 39,
   "metadata": {
    "collapsed": true
   },
   "outputs": [
    {
     "data": {
      "image/png": "[encoded data removed]",
      "text/plain": [
       "plot without title"
      ]
     },
     "metadata": {},
     "output_type": "display_data"
    }
   ],
   "source": [
    "boxplot(EDAD)"
   ]
  },
  {
   "cell_type": "markdown",
   "metadata": {},
   "source": [
    "## Variables Cualitativas ##"
   ]
  },
  {
   "cell_type": "code",
   "execution_count": 42,
   "metadata": {
    "collapsed": true
   },
   "outputs": [
    {
     "data": {
      "text/html": [
       "<table>\n",
       "<thead><tr><th scope=col>ESTADO</th><th scope=col>Freq</th></tr></thead>\n",
       "<tbody>\n",
       "\t<tr><td>CASADO    </td><td>47        </td></tr>\n",
       "\t<tr><td>DIVORCIADO</td><td>12        </td></tr>\n",
       "\t<tr><td>OTRO      </td><td>18        </td></tr>\n",
       "\t<tr><td>SOLTERO   </td><td>23        </td></tr>\n",
       "</tbody>\n",
       "</table>\n"
      ],
      "text/latex": [
       "\\begin{tabular}{r|ll}\n",
       " ESTADO & Freq\\\\\n",
       "\\hline\n",
       "\t CASADO     & 47        \\\\\n",
       "\t DIVORCIADO & 12        \\\\\n",
       "\t OTRO       & 18        \\\\\n",
       "\t SOLTERO    & 23        \\\\\n",
       "\\end{tabular}\n"
      ],
      "text/markdown": [
       "\n",
       "ESTADO | Freq | \n",
       "|---|---|---|---|\n",
       "| CASADO     | 47         | \n",
       "| DIVORCIADO | 12         | \n",
       "| OTRO       | 18         | \n",
       "| SOLTERO    | 23         | \n",
       "\n",
       "\n"
      ],
      "text/plain": [
       "  ESTADO     Freq\n",
       "1 CASADO     47  \n",
       "2 DIVORCIADO 12  \n",
       "3 OTRO       18  \n",
       "4 SOLTERO    23  "
      ]
     },
     "metadata": {},
     "output_type": "display_data"
    }
   ],
   "source": [
    "ESTADO=DATOS$ESTADO_CIVIL\n",
    "tabla1=data.frame(table(ESTADO))\n",
    "tabla1"
   ]
  },
  {
   "cell_type": "code",
   "execution_count": null,
   "metadata": {
    "collapsed": true
   },
   "outputs": [],
   "source": []
  },
  {
   "cell_type": "code",
   "execution_count": null,
   "metadata": {
    "collapsed": true
   },
   "outputs": [],
   "source": []
  },
  {
   "cell_type": "code",
   "execution_count": null,
   "metadata": {
    "collapsed": true
   },
   "outputs": [],
   "source": []
  },
  {
   "cell_type": "code",
   "execution_count": null,
   "metadata": {
    "collapsed": true
   },
   "outputs": [],
   "source": []
  }
 ],
 "metadata": {
  "kernelspec": {
   "display_name": "R",
   "language": "R",
   "name": "ir"
  },
  "language_info": {
   "codemirror_mode": "r",
   "file_extension": ".r",
   "mimetype": "text/x-r-source",
   "name": "R",
   "pygments_lexer": "r",
   "version": "3.5.1"
  }
 },
 "nbformat": 4,
 "nbformat_minor": 2
}
