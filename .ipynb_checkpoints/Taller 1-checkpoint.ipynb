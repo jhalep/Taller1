{
 "cells": [
  {
   "cell_type": "markdown",
   "metadata": {},
   "source": [
    "# TALLER 1 #"
   ]
  },
  {
   "cell_type": "code",
   "execution_count": 62,
   "metadata": {},
   "outputs": [],
   "source": [
    "library(readxl)\n",
    "DATOS <- read_excel(\"C:/Users/JHONALEJANDROPENATEL/Documents/1Maestria/Herramientas/Taller1/DATOS.xlsx\")"
   ]
  },
  {
   "cell_type": "markdown",
   "metadata": {},
   "source": [
    "Se crea la variable DIFERENCIA_PESO restando al peso antes de la dieta el peso después de la dieta. Luego visualizamos una tabla de frecuencia para esta variable"
   ]
  },
  {
   "cell_type": "code",
   "execution_count": 63,
   "metadata": {},
   "outputs": [
    {
     "data": {
      "text/html": [
       "<table>\n",
       "<thead><tr><th scope=col>DIFERENCIA_PESO</th><th scope=col>Freq</th></tr></thead>\n",
       "<tbody>\n",
       "\t<tr><td>-2</td><td>10</td></tr>\n",
       "\t<tr><td>-1</td><td> 6</td></tr>\n",
       "\t<tr><td>0 </td><td>12</td></tr>\n",
       "\t<tr><td>1 </td><td>22</td></tr>\n",
       "\t<tr><td>2 </td><td>14</td></tr>\n",
       "\t<tr><td>3 </td><td>20</td></tr>\n",
       "\t<tr><td>4 </td><td> 6</td></tr>\n",
       "\t<tr><td>5 </td><td> 5</td></tr>\n",
       "\t<tr><td>12</td><td> 5</td></tr>\n",
       "</tbody>\n",
       "</table>\n"
      ],
      "text/latex": [
       "\\begin{tabular}{r|ll}\n",
       " DIFERENCIA\\_PESO & Freq\\\\\n",
       "\\hline\n",
       "\t -2 & 10\\\\\n",
       "\t -1 &  6\\\\\n",
       "\t 0  & 12\\\\\n",
       "\t 1  & 22\\\\\n",
       "\t 2  & 14\\\\\n",
       "\t 3  & 20\\\\\n",
       "\t 4  &  6\\\\\n",
       "\t 5  &  5\\\\\n",
       "\t 12 &  5\\\\\n",
       "\\end{tabular}\n"
      ],
      "text/markdown": [
       "\n",
       "DIFERENCIA_PESO | Freq | \n",
       "|---|---|---|---|---|---|---|---|---|\n",
       "| -2 | 10 | \n",
       "| -1 |  6 | \n",
       "| 0  | 12 | \n",
       "| 1  | 22 | \n",
       "| 2  | 14 | \n",
       "| 3  | 20 | \n",
       "| 4  |  6 | \n",
       "| 5  |  5 | \n",
       "| 12 |  5 | \n",
       "\n",
       "\n"
      ],
      "text/plain": [
       "  DIFERENCIA_PESO Freq\n",
       "1 -2              10  \n",
       "2 -1               6  \n",
       "3 0               12  \n",
       "4 1               22  \n",
       "5 2               14  \n",
       "6 3               20  \n",
       "7 4                6  \n",
       "8 5                5  \n",
       "9 12               5  "
      ]
     },
     "metadata": {},
     "output_type": "display_data"
    }
   ],
   "source": [
    "DIFERENCIA_PESO = DATOS$PESO_ANTES_DIETA - DATOS$PESO_DESPUES_DIETA\n",
    "tabla1  = data.frame(table(DIFERENCIA_PESO))\n",
    "tabla1"
   ]
  },
  {
   "cell_type": "markdown",
   "metadata": {},
   "source": [
    "Se crea otra tabla con los valores de **Frecuencia**, **Frecuencia acumulada**, **Frecuencia relativa** y **Frecuencia realativa acumulada**"
   ]
  },
  {
   "cell_type": "code",
   "execution_count": 64,
   "metadata": {},
   "outputs": [
    {
     "data": {
      "text/html": [
       "<table>\n",
       "<thead><tr><th scope=col>DIFERENCIA_PESO</th><th scope=col>Freq</th><th scope=col>Freac</th><th scope=col>Frela</th><th scope=col>Freac.1</th></tr></thead>\n",
       "<tbody>\n",
       "\t<tr><td>-2  </td><td>10  </td><td> 10 </td><td>0.10</td><td>0.10</td></tr>\n",
       "\t<tr><td>-1  </td><td> 6  </td><td> 16 </td><td>0.06</td><td>0.16</td></tr>\n",
       "\t<tr><td>0   </td><td>12  </td><td> 28 </td><td>0.12</td><td>0.28</td></tr>\n",
       "\t<tr><td>1   </td><td>22  </td><td> 50 </td><td>0.22</td><td>0.50</td></tr>\n",
       "\t<tr><td>2   </td><td>14  </td><td> 64 </td><td>0.14</td><td>0.64</td></tr>\n",
       "\t<tr><td>3   </td><td>20  </td><td> 84 </td><td>0.20</td><td>0.84</td></tr>\n",
       "\t<tr><td>4   </td><td> 6  </td><td> 90 </td><td>0.06</td><td>0.90</td></tr>\n",
       "\t<tr><td>5   </td><td> 5  </td><td> 95 </td><td>0.05</td><td>0.95</td></tr>\n",
       "\t<tr><td>12  </td><td> 5  </td><td>100 </td><td>0.05</td><td>1.00</td></tr>\n",
       "</tbody>\n",
       "</table>\n"
      ],
      "text/latex": [
       "\\begin{tabular}{r|lllll}\n",
       " DIFERENCIA\\_PESO & Freq & Freac & Frela & Freac.1\\\\\n",
       "\\hline\n",
       "\t -2   & 10   &  10  & 0.10 & 0.10\\\\\n",
       "\t -1   &  6   &  16  & 0.06 & 0.16\\\\\n",
       "\t 0    & 12   &  28  & 0.12 & 0.28\\\\\n",
       "\t 1    & 22   &  50  & 0.22 & 0.50\\\\\n",
       "\t 2    & 14   &  64  & 0.14 & 0.64\\\\\n",
       "\t 3    & 20   &  84  & 0.20 & 0.84\\\\\n",
       "\t 4    &  6   &  90  & 0.06 & 0.90\\\\\n",
       "\t 5    &  5   &  95  & 0.05 & 0.95\\\\\n",
       "\t 12   &  5   & 100  & 0.05 & 1.00\\\\\n",
       "\\end{tabular}\n"
      ],
      "text/markdown": [
       "\n",
       "DIFERENCIA_PESO | Freq | Freac | Frela | Freac.1 | \n",
       "|---|---|---|---|---|---|---|---|---|\n",
       "| -2   | 10   |  10  | 0.10 | 0.10 | \n",
       "| -1   |  6   |  16  | 0.06 | 0.16 | \n",
       "| 0    | 12   |  28  | 0.12 | 0.28 | \n",
       "| 1    | 22   |  50  | 0.22 | 0.50 | \n",
       "| 2    | 14   |  64  | 0.14 | 0.64 | \n",
       "| 3    | 20   |  84  | 0.20 | 0.84 | \n",
       "| 4    |  6   |  90  | 0.06 | 0.90 | \n",
       "| 5    |  5   |  95  | 0.05 | 0.95 | \n",
       "| 12   |  5   | 100  | 0.05 | 1.00 | \n",
       "\n",
       "\n"
      ],
      "text/plain": [
       "  DIFERENCIA_PESO Freq Freac Frela Freac.1\n",
       "1 -2              10    10   0.10  0.10   \n",
       "2 -1               6    16   0.06  0.16   \n",
       "3 0               12    28   0.12  0.28   \n",
       "4 1               22    50   0.22  0.50   \n",
       "5 2               14    64   0.14  0.64   \n",
       "6 3               20    84   0.20  0.84   \n",
       "7 4                6    90   0.06  0.90   \n",
       "8 5                5    95   0.05  0.95   \n",
       "9 12               5   100   0.05  1.00   "
      ]
     },
     "metadata": {},
     "output_type": "display_data"
    }
   ],
   "source": [
    "tabla2=transform(tabla1,Freac=cumsum(Freq),Frela=round(prop.table(Freq),2),Freac=round(cumsum(prop.table(Freq)),2))\n",
    "tabla2"
   ]
  },
  {
   "cell_type": "code",
   "execution_count": 65,
   "metadata": {},
   "outputs": [
    {
     "data": {
      "image/png": "[encoded data removed]",
      "text/plain": [
       "Plot with title \"Histogram of DIFERENCIA_PESO\""
      ]
     },
     "metadata": {},
     "output_type": "display_data"
    }
   ],
   "source": [
    "hist(DIFERENCIA_PESO)"
   ]
  },
  {
   "cell_type": "code",
   "execution_count": 66,
   "metadata": {},
   "outputs": [
    {
     "data": {
      "image/png": "[encoded data removed]",
      "text/plain": [
       "plot without title"
      ]
     },
     "metadata": {},
     "output_type": "display_data"
    }
   ],
   "source": [
    "plot(tabla2$Freac,type=\"o\",col = \"RED\")"
   ]
  },
  {
   "cell_type": "markdown",
   "metadata": {},
   "source": [
    "## Medidas de Tendencia Central ##"
   ]
  },
  {
   "cell_type": "code",
   "execution_count": 67,
   "metadata": {},
   "outputs": [
    {
     "data": {
      "text/plain": [
       "   Min. 1st Qu.  Median    Mean 3rd Qu.    Max. \n",
       "  -2.00    0.00    1.50    1.93    3.00   12.00 "
      ]
     },
     "metadata": {},
     "output_type": "display_data"
    }
   ],
   "source": [
    "summary(DIFERENCIA_PESO)"
   ]
  },
  {
   "cell_type": "code",
   "execution_count": null,
   "metadata": {},
   "outputs": [],
   "source": []
  },
  {
   "cell_type": "code",
   "execution_count": 68,
   "metadata": {},
   "outputs": [
    {
     "data": {
      "text/html": [
       "1.93"
      ],
      "text/latex": [
       "1.93"
      ],
      "text/markdown": [
       "1.93"
      ],
      "text/plain": [
       "[1] 1.93"
      ]
     },
     "metadata": {},
     "output_type": "display_data"
    }
   ],
   "source": [
    "mean(DIFERENCIA_PESO)"
   ]
  },
  {
   "cell_type": "code",
   "execution_count": 69,
   "metadata": {},
   "outputs": [
    {
     "data": {
      "text/html": [
       "1.5"
      ],
      "text/latex": [
       "1.5"
      ],
      "text/markdown": [
       "1.5"
      ],
      "text/plain": [
       "[1] 1.5"
      ]
     },
     "metadata": {},
     "output_type": "display_data"
    }
   ],
   "source": [
    "median(DIFERENCIA_PESO)"
   ]
  },
  {
   "cell_type": "markdown",
   "metadata": {},
   "source": [
    "Promedio Aritmético"
   ]
  },
  {
   "cell_type": "code",
   "execution_count": 70,
   "metadata": {},
   "outputs": [
    {
     "ename": "ERROR",
     "evalue": "Error in eval(expr, envir, enclos): object 'TFA' not found\n",
     "output_type": "error",
     "traceback": [
      "Error in eval(expr, envir, enclos): object 'TFA' not found\nTraceback:\n"
     ]
    }
   ],
   "source": [
    "P_ARIT=sum((TFA$MC)*(TFA$Freq))/sum((TFA$Freq))\n",
    "P_ARIT"
   ]
  },
  {
   "cell_type": "markdown",
   "metadata": {},
   "source": [
    "## Medidas de Variabilidad ##\n",
    "Varianza usual"
   ]
  },
  {
   "cell_type": "code",
   "execution_count": 106,
   "metadata": {},
   "outputs": [
    {
     "data": {
      "text/html": [
       "8.7251"
      ],
      "text/latex": [
       "8.7251"
      ],
      "text/markdown": [
       "8.7251"
      ],
      "text/plain": [
       "[1] 8.7251"
      ]
     },
     "metadata": {},
     "output_type": "display_data"
    }
   ],
   "source": [
    "VARU = sum((DIFERENCIA_PESO-mean(DIFERENCIA_PESO))^2)/length(DIFERENCIA_PESO)\n",
    "VARU"
   ]
  },
  {
   "cell_type": "code",
   "execution_count": null,
   "metadata": {},
   "outputs": [],
   "source": []
  },
  {
   "cell_type": "code",
   "execution_count": null,
   "metadata": {},
   "outputs": [],
   "source": [
    "DESU = sqrt(VARU)\n",
    "DESU"
   ]
  },
  {
   "cell_type": "code",
   "execution_count": null,
   "metadata": {},
   "outputs": [],
   "source": []
  },
  {
   "cell_type": "code",
   "execution_count": null,
   "metadata": {},
   "outputs": [],
   "source": []
  },
  {
   "cell_type": "code",
   "execution_count": null,
   "metadata": {},
   "outputs": [],
   "source": []
  },
  {
   "cell_type": "code",
   "execution_count": null,
   "metadata": {},
   "outputs": [],
   "source": []
  },
  {
   "cell_type": "code",
   "execution_count": null,
   "metadata": {},
   "outputs": [],
   "source": []
  },
  {
   "cell_type": "code",
   "execution_count": null,
   "metadata": {},
   "outputs": [],
   "source": []
  }
 ],
 "metadata": {
  "kernelspec": {
   "display_name": "R",
   "language": "R",
   "name": "ir"
  },
  "language_info": {
   "codemirror_mode": "r",
   "file_extension": ".r",
   "mimetype": "text/x-r-source",
   "name": "R",
   "pygments_lexer": "r",
   "version": "3.5.1"
  }
 },
 "nbformat": 4,
 "nbformat_minor": 2
}
